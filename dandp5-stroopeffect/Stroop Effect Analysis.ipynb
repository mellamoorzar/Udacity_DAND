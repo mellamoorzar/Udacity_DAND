{
 "cells": [
  {
   "cell_type": "markdown",
   "metadata": {},
   "source": [
    "# Test a Perceptual Phenomenon - Stroop effect"
   ]
  },
  {
   "cell_type": "markdown",
   "metadata": {},
   "source": [
    "## Background Information\n",
    "In a Stroop task, participants are presented with a list of words, with each word displayed in a color of ink. The participant’s task is to say out loud the color of the ink in which the word is printed. The task has two conditions: a congruent words condition, and an incongruent words condition. In the congruent words condition, the words being displayed are color words whose names match the colors in which they are printed: for example $\\color{red}{Red}$, $\\color{royalblue}{Blue}$. In the incongruent words condition, the words displayed are color words whose names do not match the colors in which they are printed: for example $\\color{forestgreen}{Purple}$, $\\color{darkorchid}{Green}$. In each case, we measure the time it takes to name the ink colors in equally-sized lists. Each participant will go through and record a time from each condition."
   ]
  },
  {
   "cell_type": "markdown",
   "metadata": {},
   "source": [
    "## Questions For Investigation\n"
   ]
  },
  {
   "cell_type": "markdown",
   "metadata": {},
   "source": [
    "<b>Q1. What is our independent variable? What is our dependent variable?</b>\n",
    "* Independent Variable: condition (congruent words condition or incongruent words condition)\n",
    "* Dependent Variable: reaction time (the time it takes to name the ink colors)"
   ]
  },
  {
   "cell_type": "markdown",
   "metadata": {},
   "source": [
    "<b>Q2. What is an appropriate set of hypotheses for this task? What kind of statistical test do you expect to perform? Justify your choices.</b>\n",
    "\n",
    "<p>We only have data from small sized (24) samples. our mission is to estimate the entire population. So I expect to perform the dependent t-test for paired samples.</p><p>Our null hypothesis assumes that there is no significant statistical difference in reaction time between the congruent and incongruent conditions. On the other hand, our alternative hypothesis assumes that the reaction time under incongruent condition is significantly higher than congruent condition.</p>\n",
    "* $ H_0: \\mu_{difference} = \\mu_{incongruent} - \\mu_{congruent} = 0 $\n",
    "* $ H_A: \\mu_{difference} = \\mu_{incongruent} - \\mu_{congruent} >= 0 $"
   ]
  },
  {
   "cell_type": "markdown",
   "metadata": {},
   "source": [
    "We will use $\\alpha$ = .05 to determine statistical significance."
   ]
  },
  {
   "cell_type": "markdown",
   "metadata": {},
   "source": [
    "<b>Q3. Report some descriptive statistics regarding this dataset. Include at least one measure of central tendency and at least one measure of variability.</b>"
   ]
  },
  {
   "cell_type": "code",
   "execution_count": 1,
   "metadata": {
    "collapsed": true
   },
   "outputs": [],
   "source": [
    "# import all necessary packages and functions\n",
    "import numpy as np\n",
    "import pandas as pd\n",
    "import scipy as sp\n",
    "import math\n",
    "import matplotlib.pyplot as plt\n",
    "import seaborn as sns\n",
    "%matplotlib inline\n",
    "\n",
    "# read the file\n",
    "file_in  = 'stroopdata.csv'\n",
    "df = pd.read_csv(file_in)"
   ]
  },
  {
   "cell_type": "code",
   "execution_count": 2,
   "metadata": {
    "collapsed": false
   },
   "outputs": [
    {
     "data": {
      "text/html": [
       "<div>\n",
       "<table border=\"1\" class=\"dataframe\">\n",
       "  <thead>\n",
       "    <tr style=\"text-align: right;\">\n",
       "      <th></th>\n",
       "      <th>Congruent</th>\n",
       "      <th>Incongruent</th>\n",
       "    </tr>\n",
       "  </thead>\n",
       "  <tbody>\n",
       "    <tr>\n",
       "      <th>count</th>\n",
       "      <td>24.000000</td>\n",
       "      <td>24.000000</td>\n",
       "    </tr>\n",
       "    <tr>\n",
       "      <th>mean</th>\n",
       "      <td>14.051125</td>\n",
       "      <td>22.015917</td>\n",
       "    </tr>\n",
       "    <tr>\n",
       "      <th>std</th>\n",
       "      <td>3.559358</td>\n",
       "      <td>4.797057</td>\n",
       "    </tr>\n",
       "    <tr>\n",
       "      <th>min</th>\n",
       "      <td>8.630000</td>\n",
       "      <td>15.687000</td>\n",
       "    </tr>\n",
       "    <tr>\n",
       "      <th>25%</th>\n",
       "      <td>11.895250</td>\n",
       "      <td>18.716750</td>\n",
       "    </tr>\n",
       "    <tr>\n",
       "      <th>50%</th>\n",
       "      <td>14.356500</td>\n",
       "      <td>21.017500</td>\n",
       "    </tr>\n",
       "    <tr>\n",
       "      <th>75%</th>\n",
       "      <td>16.200750</td>\n",
       "      <td>24.051500</td>\n",
       "    </tr>\n",
       "    <tr>\n",
       "      <th>max</th>\n",
       "      <td>22.328000</td>\n",
       "      <td>35.255000</td>\n",
       "    </tr>\n",
       "  </tbody>\n",
       "</table>\n",
       "</div>"
      ],
      "text/plain": [
       "       Congruent  Incongruent\n",
       "count  24.000000    24.000000\n",
       "mean   14.051125    22.015917\n",
       "std     3.559358     4.797057\n",
       "min     8.630000    15.687000\n",
       "25%    11.895250    18.716750\n",
       "50%    14.356500    21.017500\n",
       "75%    16.200750    24.051500\n",
       "max    22.328000    35.255000"
      ]
     },
     "execution_count": 2,
     "metadata": {},
     "output_type": "execute_result"
    }
   ],
   "source": [
    "# descriptive statistics of the two conditions\n",
    "df.describe()"
   ]
  },
  {
   "cell_type": "markdown",
   "metadata": {},
   "source": [
    "The mean of sample under incongruent condition is 22.02, and standard deviation is 4.80. They are much higher than these statistics under congruent condition."
   ]
  },
  {
   "cell_type": "code",
   "execution_count": 3,
   "metadata": {
    "collapsed": false
   },
   "outputs": [
    {
     "data": {
      "text/html": [
       "<div>\n",
       "<table border=\"1\" class=\"dataframe\">\n",
       "  <thead>\n",
       "    <tr style=\"text-align: right;\">\n",
       "      <th></th>\n",
       "      <th>Difference</th>\n",
       "    </tr>\n",
       "  </thead>\n",
       "  <tbody>\n",
       "    <tr>\n",
       "      <th>count</th>\n",
       "      <td>24.000000</td>\n",
       "    </tr>\n",
       "    <tr>\n",
       "      <th>mean</th>\n",
       "      <td>7.964792</td>\n",
       "    </tr>\n",
       "    <tr>\n",
       "      <th>std</th>\n",
       "      <td>4.864827</td>\n",
       "    </tr>\n",
       "    <tr>\n",
       "      <th>min</th>\n",
       "      <td>1.950000</td>\n",
       "    </tr>\n",
       "    <tr>\n",
       "      <th>25%</th>\n",
       "      <td>3.645500</td>\n",
       "    </tr>\n",
       "    <tr>\n",
       "      <th>50%</th>\n",
       "      <td>7.666500</td>\n",
       "    </tr>\n",
       "    <tr>\n",
       "      <th>75%</th>\n",
       "      <td>10.258500</td>\n",
       "    </tr>\n",
       "    <tr>\n",
       "      <th>max</th>\n",
       "      <td>21.919000</td>\n",
       "    </tr>\n",
       "  </tbody>\n",
       "</table>\n",
       "</div>"
      ],
      "text/plain": [
       "       Difference\n",
       "count   24.000000\n",
       "mean     7.964792\n",
       "std      4.864827\n",
       "min      1.950000\n",
       "25%      3.645500\n",
       "50%      7.666500\n",
       "75%     10.258500\n",
       "max     21.919000"
      ]
     },
     "execution_count": 3,
     "metadata": {},
     "output_type": "execute_result"
    }
   ],
   "source": [
    "# descriptive statistics of the difference\n",
    "dif = df.Incongruent - df.Congruent\n",
    "difference = pd.DataFrame({\"Difference\":dif})\n",
    "difference.describe()"
   ]
  },
  {
   "cell_type": "markdown",
   "metadata": {},
   "source": [
    "Correspondingly the statistics of sample difference are quite high."
   ]
  },
  {
   "cell_type": "markdown",
   "metadata": {},
   "source": [
    "<b>Q4. Provide one or two visualizations that show the distribution of the sample data. Write one or two sentences noting what you observe about the plot or plots.</b>"
   ]
  },
  {
   "cell_type": "code",
   "execution_count": 4,
   "metadata": {
    "collapsed": false
   },
   "outputs": [
    {
     "data": {
      "image/png": "[encoded data removed]",
      "text/plain": [
       "<matplotlib.figure.Figure at 0x10dda4f10>"
      ]
     },
     "metadata": {},
     "output_type": "display_data"
    }
   ],
   "source": [
    "# histogram of both conditions\n",
    "title = 'Histogram of both Conditions'\n",
    "plot = df.plot(title=title, kind='hist', alpha=0.5, bins=15)\n",
    "label = plt.xlabel('Reaction time (seconds)')\n",
    "window = plt.axis([0,40,0,7])"
   ]
  },
  {
   "cell_type": "code",
   "execution_count": 5,
   "metadata": {
    "collapsed": false
   },
   "outputs": [
    {
     "data": {
      "text/plain": [
       "<matplotlib.text.Text at 0x11039aad0>"
      ]
     },
     "execution_count": 5,
     "metadata": {},
     "output_type": "execute_result"
    },
    {
     "data": {
      "image/png": "[encoded data removed]",
      "text/plain": [
       "<matplotlib.figure.Figure at 0x110339590>"
      ]
     },
     "metadata": {},
     "output_type": "display_data"
    }
   ],
   "source": [
    "# histogram of the difference\n",
    "fig, axs = plt.subplots()\n",
    "sns.distplot(difference, bins=10, label='Difference')\n",
    "plt.legend(prop={'size':12})\n",
    "axs.set_title('Histogram of the Difference')\n",
    "axs.set_xlabel('Reaction time (seconds)')"
   ]
  },
  {
   "cell_type": "markdown",
   "metadata": {},
   "source": [
    "Each sample difference is positive. That means each participant of the sample takes more times to naming the color under incongruent condition."
   ]
  },
  {
   "cell_type": "code",
   "execution_count": 6,
   "metadata": {
    "collapsed": false
   },
   "outputs": [
    {
     "data": {
      "image/png": "[encoded data removed]",
      "text/plain": [
       "<matplotlib.figure.Figure at 0x110b359d0>"
      ]
     },
     "metadata": {},
     "output_type": "display_data"
    }
   ],
   "source": [
    "# boxplot of both conditions\n",
    "title = 'Boxplot of both Conditions'\n",
    "plot = df.plot(title=title, kind='box')\n",
    "label = plt.ylabel('Reaction time (seconds)')"
   ]
  },
  {
   "cell_type": "markdown",
   "metadata": {},
   "source": [
    "Compare to the congruent condition, the reaction time under incongruent condition are of higher range. In this boxplot, we can see that the majority of data under incongruent condition are above the IQR of congruent condition."
   ]
  },
  {
   "cell_type": "markdown",
   "metadata": {},
   "source": [
    "Q5. Now, perform the statistical test and report your results. What is your confidence level and your critical statistic value? Do you reject the null hypothesis or fail to reject it? Come to a conclusion in terms of the experiment task. Did the results match up with your expectations?"
   ]
  },
  {
   "cell_type": "code",
   "execution_count": 7,
   "metadata": {
    "collapsed": false
   },
   "outputs": [
    {
     "name": "stdout",
     "output_type": "stream",
     "text": [
      "t(23) = 8.02, p < .001, one-tailed\n"
     ]
    }
   ],
   "source": [
    "# calculate statistics\n",
    "mean = difference.mean()\n",
    "median = difference.median()\n",
    "variance = difference.var(ddof=1)\n",
    "s = difference.std()\n",
    "n = len(difference)\n",
    "df = n - 1\n",
    "se = s / math.sqrt(n)\n",
    "\n",
    "# t-statistic\n",
    "t = round(mean / se, 2)\n",
    "p = sp.stats.t.sf(t, df)\n",
    "print 't({}) = {}, p < .001, one-tailed'.format(df, t)"
   ]
  },
  {
   "cell_type": "code",
   "execution_count": 8,
   "metadata": {
    "collapsed": false
   },
   "outputs": [
    {
     "name": "stdout",
     "output_type": "stream",
     "text": [
      "confident interval on the mean difference: 95% CI = (6.26, 9.67)\n"
     ]
    }
   ],
   "source": [
    "# confidence interval\n",
    "# set alpha level .01\n",
    "t_critical = 1.714\n",
    "margin_of_error = t_critical * se\n",
    "ci_lower_bound = round(mean - margin_of_error, 2)\n",
    "ci_upper_bound = round(mean + margin_of_error, 2)\n",
    "print 'confident interval on the mean difference: 95% CI = ({}, {})'.format(ci_lower_bound, ci_upper_bound)"
   ]
  },
  {
   "cell_type": "code",
   "execution_count": 9,
   "metadata": {
    "collapsed": false
   },
   "outputs": [
    {
     "name": "stdout",
     "output_type": "stream",
     "text": [
      "r squared = 0.74\n"
     ]
    }
   ],
   "source": [
    "# effect size\n",
    "# r squared\n",
    "r_squared = round(np.square(t)/(np.square(t)+df), 2)\n",
    "print 'r squared = {}'.format(r_squared)"
   ]
  },
  {
   "cell_type": "markdown",
   "metadata": {},
   "source": [
    "<p>Our point estimate for population mean difference is 4.96.</p>\n",
    "\n",
    "<p>Our $t_{statistic}$ (23 degrees of freedom) is 8.02, which is much more higher than the $t_{critical}$ 1.714 ($\\alpha$ level .001, 23 degrees of freedom). This indicates that the mean difference 4.96 is not likely to have occurred by chance.</p>\n",
    "\n",
    "<p>Our 95% interval estimate for population mean (in difference) is from 6.26 to 9.67, which means that 95% sample means (in difference) fall within this interval.</p>\n",
    "\n",
    "<p>Our $R^2$ is 0.74, which indicates that the model explains 74% the variability of the response data around its mean.</p>"
   ]
  },
  {
   "cell_type": "markdown",
   "metadata": {
    "collapsed": true
   },
   "source": [
    "#### Result\n",
    "<p>Based on the above statistical test, the null hypothesis should be rejected. Instead we accept the alternative hypothesis that the reaction time under incongruent condition is significantly higher than congruent condition.</p>"
   ]
  },
  {
   "cell_type": "markdown",
   "metadata": {},
   "source": [
    "<b>Q6. What do you think is responsible for the effects observed? Can you think of an alternative or similar task that would result in a similar effect? Some research about the problem will be helpful for thinking about these two questions!</b>"
   ]
  },
  {
   "cell_type": "markdown",
   "metadata": {},
   "source": [
    "The theories like 'processing speed', 'automaticity' and 'parallel distributed processing' all sound reasonable to me. But I think it's not going to be that easy. Maybe there is a lag in the brain's ability to recognize the color of the word, for people more rational, but not for perceptual ones. And for those who often deal with colors, automaticity performance might become to their specialty. For one thing we can make sure is that interference will slow down the processing speed of our brain. The influence level will depend on both different interferences and different brains.\n",
    "\n"
   ]
  },
  {
   "cell_type": "markdown",
   "metadata": {},
   "source": [
    "We could run an experiment combined Stroop and visual search, for example, use images with two kinds of animal (one on the left, the other on the right side) and an arrow (pointing to left or right side randomly), ask the participants to speak out the side of given animal."
   ]
  }
 ],
 "metadata": {
  "anaconda-cloud": {},
  "kernelspec": {
   "display_name": "Python [conda env:DAND]",
   "language": "python",
   "name": "conda-env-DAND-py"
  },
  "language_info": {
   "codemirror_mode": {
    "name": "ipython",
    "version": 2
   },
   "file_extension": ".py",
   "mimetype": "text/x-python",
   "name": "python",
   "nbconvert_exporter": "python",
   "pygments_lexer": "ipython2",
   "version": "2.7.12"
  }
 },
 "nbformat": 4,
 "nbformat_minor": 2
}
