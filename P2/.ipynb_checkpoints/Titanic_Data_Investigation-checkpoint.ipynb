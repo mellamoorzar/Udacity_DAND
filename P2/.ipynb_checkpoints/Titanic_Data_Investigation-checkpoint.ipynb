{
 "cells": [
  {
   "cell_type": "markdown",
   "metadata": {},
   "source": [
    "# Titanic Data Investigation"
   ]
  },
  {
   "cell_type": "markdown",
   "metadata": {},
   "source": [
    "## Background information\n",
    "The sinking of the RMS Titanic is one of the most infamous shipwrecks in history.  On April 15, 1912, during her maiden voyage, the Titanic sank after colliding with an iceberg, killing 1502 out of 2224 passengers and crew. This sensational tragedy shocked the international community and led to better safety regulations for ships.\n",
    "\n",
    "One of the reasons that the shipwreck led to such loss of life was that there were not enough lifeboats for the passengers and crew. Although there was some element of luck involved in surviving the sinking, some groups of people were more likely to survive than others, such as women, children, and the upper-class."
   ]
  },
  {
   "cell_type": "markdown",
   "metadata": {},
   "source": [
    "### Data dictionary\n",
    "#### Variable\n",
    "* survival: Survival, 0 = No, 1 = Yes\n",
    "* pclass: Ticket class, 1 = 1st, 2 = 2nd, 3 = 3rd\n",
    "* sex: Sex\n",
    "* age: Age in years\n",
    "* sibsp: # of siblings / spouses aboard the Titanic\n",
    "* parch: # of parents / children aboard the Titanic\n",
    "* ticket: Ticket number\n",
    "* fare: Passenger fare\n",
    "* cabin: Cabin number\n",
    "* embarked: Port of Embarkation, C = Cherbourg, Q = Queenstown, S = Southampton\n",
    "\n",
    "#### Variable Notes\n",
    "\n",
    "**pclass:** A proxy for socio-economic status (SES)\n",
    "* 1st = Upper\n",
    "* 2nd = Middle\n",
    "* 3rd = Lower\n",
    "\n",
    "**age:** Age is fractional if less than 1. If the age is estimated, is it in the form of xx.5\n",
    "\n",
    "\n",
    "**sibsp:** The dataset defines family relations in this way...\n",
    "* Sibling = brother, sister, stepbrother, stepsister\n",
    "* Spouse = husband, wife (mistresses and fiancés were ignored)\n",
    "\n",
    "**parch:** The dataset defines family relations in this way...\n",
    "* Parent = mother, father\n",
    "* Child = daughter, son, stepdaughter, stepson\n",
    "* Some children travelled only with a nanny, therefore parch=0 for them."
   ]
  },
  {
   "cell_type": "markdown",
   "metadata": {},
   "source": [
    "## Questions to be asked\n",
    "What factors made people more likely to survive?"
   ]
  },
  {
   "cell_type": "markdown",
   "metadata": {},
   "source": [
    "## Data wrangling"
   ]
  },
  {
   "cell_type": "code",
   "execution_count": 1,
   "metadata": {
    "collapsed": false
   },
   "outputs": [
    {
     "data": {
      "text/html": [
       "<div>\n",
       "<table border=\"1\" class=\"dataframe\">\n",
       "  <thead>\n",
       "    <tr style=\"text-align: right;\">\n",
       "      <th></th>\n",
       "      <th>PassengerId</th>\n",
       "      <th>Survived</th>\n",
       "      <th>Pclass</th>\n",
       "      <th>Name</th>\n",
       "      <th>Sex</th>\n",
       "      <th>Age</th>\n",
       "      <th>SibSp</th>\n",
       "      <th>Parch</th>\n",
       "      <th>Ticket</th>\n",
       "      <th>Fare</th>\n",
       "      <th>Cabin</th>\n",
       "      <th>Embarked</th>\n",
       "    </tr>\n",
       "  </thead>\n",
       "  <tbody>\n",
       "    <tr>\n",
       "      <th>888</th>\n",
       "      <td>889</td>\n",
       "      <td>0</td>\n",
       "      <td>3</td>\n",
       "      <td>Johnston, Miss. Catherine Helen \"Carrie\"</td>\n",
       "      <td>female</td>\n",
       "      <td>NaN</td>\n",
       "      <td>1</td>\n",
       "      <td>2</td>\n",
       "      <td>W./C. 6607</td>\n",
       "      <td>23.45</td>\n",
       "      <td>NaN</td>\n",
       "      <td>S</td>\n",
       "    </tr>\n",
       "    <tr>\n",
       "      <th>889</th>\n",
       "      <td>890</td>\n",
       "      <td>1</td>\n",
       "      <td>1</td>\n",
       "      <td>Behr, Mr. Karl Howell</td>\n",
       "      <td>male</td>\n",
       "      <td>26.0</td>\n",
       "      <td>0</td>\n",
       "      <td>0</td>\n",
       "      <td>111369</td>\n",
       "      <td>30.00</td>\n",
       "      <td>C148</td>\n",
       "      <td>C</td>\n",
       "    </tr>\n",
       "    <tr>\n",
       "      <th>890</th>\n",
       "      <td>891</td>\n",
       "      <td>0</td>\n",
       "      <td>3</td>\n",
       "      <td>Dooley, Mr. Patrick</td>\n",
       "      <td>male</td>\n",
       "      <td>32.0</td>\n",
       "      <td>0</td>\n",
       "      <td>0</td>\n",
       "      <td>370376</td>\n",
       "      <td>7.75</td>\n",
       "      <td>NaN</td>\n",
       "      <td>Q</td>\n",
       "    </tr>\n",
       "  </tbody>\n",
       "</table>\n",
       "</div>"
      ],
      "text/plain": [
       "     PassengerId  Survived  Pclass                                      Name  \\\n",
       "888          889         0       3  Johnston, Miss. Catherine Helen \"Carrie\"   \n",
       "889          890         1       1                     Behr, Mr. Karl Howell   \n",
       "890          891         0       3                       Dooley, Mr. Patrick   \n",
       "\n",
       "        Sex   Age  SibSp  Parch      Ticket   Fare Cabin Embarked  \n",
       "888  female   NaN      1      2  W./C. 6607  23.45   NaN        S  \n",
       "889    male  26.0      0      0      111369  30.00  C148        C  \n",
       "890    male  32.0      0      0      370376   7.75   NaN        Q  "
      ]
     },
     "execution_count": 1,
     "metadata": {},
     "output_type": "execute_result"
    }
   ],
   "source": [
    "# import all necessary packages and functions\n",
    "import numpy as np\n",
    "import pandas as pd\n",
    "import scipy as sp\n",
    "import matplotlib.pyplot as plt\n",
    "import seaborn as sns\n",
    "%matplotlib inline\n",
    "\n",
    "# read files\n",
    "df = pd.read_csv('titanic-data.csv')\n",
    "df.tail(3)"
   ]
  },
  {
   "cell_type": "code",
   "execution_count": 2,
   "metadata": {
    "collapsed": false
   },
   "outputs": [
    {
     "data": {
      "text/html": [
       "<div>\n",
       "<table border=\"1\" class=\"dataframe\">\n",
       "  <thead>\n",
       "    <tr style=\"text-align: right;\">\n",
       "      <th></th>\n",
       "      <th>PassengerId</th>\n",
       "      <th>Survived</th>\n",
       "      <th>Pclass</th>\n",
       "      <th>Name</th>\n",
       "      <th>Sex</th>\n",
       "      <th>Age</th>\n",
       "      <th>SibSp</th>\n",
       "      <th>Parch</th>\n",
       "      <th>Ticket</th>\n",
       "      <th>Fare</th>\n",
       "      <th>Cabin</th>\n",
       "      <th>Embarked</th>\n",
       "    </tr>\n",
       "  </thead>\n",
       "  <tbody>\n",
       "    <tr>\n",
       "      <th>0</th>\n",
       "      <td>178</td>\n",
       "      <td>0</td>\n",
       "      <td>1</td>\n",
       "      <td>Isham, Miss. Ann Elizabeth</td>\n",
       "      <td>female</td>\n",
       "      <td>50.0</td>\n",
       "      <td>0</td>\n",
       "      <td>0</td>\n",
       "      <td>PC 17595</td>\n",
       "      <td>28.7125</td>\n",
       "      <td>C49</td>\n",
       "      <td>C</td>\n",
       "    </tr>\n",
       "    <tr>\n",
       "      <th>1</th>\n",
       "      <td>298</td>\n",
       "      <td>0</td>\n",
       "      <td>1</td>\n",
       "      <td>Allison, Miss. Helen Loraine</td>\n",
       "      <td>female</td>\n",
       "      <td>2.0</td>\n",
       "      <td>1</td>\n",
       "      <td>2</td>\n",
       "      <td>113781</td>\n",
       "      <td>151.5500</td>\n",
       "      <td>C22 C26</td>\n",
       "      <td>S</td>\n",
       "    </tr>\n",
       "    <tr>\n",
       "      <th>2</th>\n",
       "      <td>499</td>\n",
       "      <td>0</td>\n",
       "      <td>1</td>\n",
       "      <td>Allison, Mrs. Hudson J C (Bessie Waldo Daniels)</td>\n",
       "      <td>female</td>\n",
       "      <td>25.0</td>\n",
       "      <td>1</td>\n",
       "      <td>2</td>\n",
       "      <td>113781</td>\n",
       "      <td>151.5500</td>\n",
       "      <td>C22 C26</td>\n",
       "      <td>S</td>\n",
       "    </tr>\n",
       "  </tbody>\n",
       "</table>\n",
       "</div>"
      ],
      "text/plain": [
       "   PassengerId  Survived  Pclass  \\\n",
       "0          178         0       1   \n",
       "1          298         0       1   \n",
       "2          499         0       1   \n",
       "\n",
       "                                              Name     Sex   Age  SibSp  \\\n",
       "0                       Isham, Miss. Ann Elizabeth  female  50.0      0   \n",
       "1                     Allison, Miss. Helen Loraine  female   2.0      1   \n",
       "2  Allison, Mrs. Hudson J C (Bessie Waldo Daniels)  female  25.0      1   \n",
       "\n",
       "   Parch    Ticket      Fare    Cabin Embarked  \n",
       "0      0  PC 17595   28.7125      C49        C  \n",
       "1      2    113781  151.5500  C22 C26        S  \n",
       "2      2    113781  151.5500  C22 C26        S  "
      ]
     },
     "execution_count": 2,
     "metadata": {},
     "output_type": "execute_result"
    }
   ],
   "source": [
    "######################\n",
    "# define data filter #\n",
    "######################\n",
    "def filter_data(data, conditions):\n",
    "    for condition in conditions:\n",
    "        field, operator, value = condition.split(' ')\n",
    "        # fixes data type\n",
    "        try:\n",
    "            value = float(value)\n",
    "        except:\n",
    "            value = value.strip('\\'\\\"')\n",
    "        # matches data\n",
    "        if operator == '>':\n",
    "            match = data[field] > value\n",
    "        elif operator == '>=':\n",
    "            match = data[field] >= value\n",
    "        elif operator == '<':\n",
    "            match = data[field] < value\n",
    "        elif operator == '<=':\n",
    "            match = data[field] <= value\n",
    "        elif operator == '==':\n",
    "            match = data[field] == value\n",
    "        elif operator == '!=':\n",
    "            match = data[field] != value\n",
    "        # outcomes filtered data\n",
    "        data = data[match].reset_index(drop = True)\n",
    "    return data\n",
    "# example\n",
    "filter_data(df, ['Sex == female', 'Pclass == 1', 'Survived == 0'])"
   ]
  },
  {
   "cell_type": "markdown",
   "metadata": {},
   "source": [
    "### Missing data"
   ]
  },
  {
   "cell_type": "code",
   "execution_count": 3,
   "metadata": {
    "collapsed": false
   },
   "outputs": [
    {
     "name": "stdout",
     "output_type": "stream",
     "text": [
      "<class 'pandas.core.frame.DataFrame'>\n",
      "RangeIndex: 891 entries, 0 to 890\n",
      "Data columns (total 12 columns):\n",
      "PassengerId    891 non-null int64\n",
      "Survived       891 non-null int64\n",
      "Pclass         891 non-null int64\n",
      "Name           891 non-null object\n",
      "Sex            891 non-null object\n",
      "Age            714 non-null float64\n",
      "SibSp          891 non-null int64\n",
      "Parch          891 non-null int64\n",
      "Ticket         891 non-null object\n",
      "Fare           891 non-null float64\n",
      "Cabin          204 non-null object\n",
      "Embarked       889 non-null object\n",
      "dtypes: float64(2), int64(5), object(5)\n",
      "memory usage: 83.6+ KB\n"
     ]
    }
   ],
   "source": [
    "########################\n",
    "# inspect missing data #\n",
    "########################\n",
    "df.info()"
   ]
  },
  {
   "cell_type": "markdown",
   "metadata": {},
   "source": [
    "#### report missing data\n",
    "* 177 'Age' values are missing\n",
    "* 687 'Cabin' values are missing\n",
    "* 2 'Embarked' values are missing\n",
    "\n",
    "#### solutions\n",
    "* For missing values for 'Age', we will replace NaN with average age of passengers with same 'Title' (e.g. Master, Mrs etc).\n",
    "* For 'Cabin', too many missing values, we'll ignore them for now.\n",
    "* As to 'Embarked', we are going to replace NaN with mode value of all passengers."
   ]
  },
  {
   "cell_type": "code",
   "execution_count": 4,
   "metadata": {
    "collapsed": false
   },
   "outputs": [
    {
     "data": {
      "text/plain": [
       "array(['Mr', 'Mrs', 'Miss', 'Master', 'Don', 'Rev', 'Dr', 'Mme', 'Ms',\n",
       "       'Major', 'Lady', 'Sir', 'Mlle', 'Col', 'Capt', 'the Countess',\n",
       "       'Jonkheer'], dtype=object)"
      ]
     },
     "execution_count": 4,
     "metadata": {},
     "output_type": "execute_result"
    }
   ],
   "source": [
    "######################\n",
    "# set 'Title' column #\n",
    "######################\n",
    "# extract title from name\n",
    "def extract_title(name):\n",
    "    last_name, first_name = name.split(', ')\n",
    "    f = first_name.split('. ')\n",
    "    if len(f) == 1:\n",
    "        title = ''\n",
    "    else:\n",
    "        title = f[0]\n",
    "    return title\n",
    "# create 'Title' column\n",
    "title_col = df['Name'].apply(lambda x: pd.Series(extract_title(x))).rename(columns={0: 'Title'})\n",
    "# have a look of each unique title for all passengers\n",
    "title_col.Title.unique()"
   ]
  },
  {
   "cell_type": "code",
   "execution_count": 5,
   "metadata": {
    "collapsed": true
   },
   "outputs": [],
   "source": [
    "# set a temp value to annotate if there is a missing value for Age\n",
    "is_missing_age_col = pd.DataFrame({'MissingAge': pd.isnull(df.Age)})\n",
    "df_temp = pd.concat([df, is_missing_age_col, title_col], axis=1)"
   ]
  },
  {
   "cell_type": "code",
   "execution_count": 6,
   "metadata": {
    "collapsed": false
   },
   "outputs": [
    {
     "data": {
      "text/plain": [
       "array(['Mr', 'Mrs', 'Miss', 'Master', 'Dr'], dtype=object)"
      ]
     },
     "execution_count": 6,
     "metadata": {},
     "output_type": "execute_result"
    }
   ],
   "source": [
    "# have a look of each unique title for passengers with missing value for Age\n",
    "df_temp[df_temp['MissingAge'] == True].Title.unique()"
   ]
  },
  {
   "cell_type": "code",
   "execution_count": 7,
   "metadata": {
    "collapsed": false
   },
   "outputs": [],
   "source": [
    "####################################\n",
    "# replace missing value for 'Age'  #\n",
    "####################################\n",
    "# calculate each average age of passengers with above titles\n",
    "age_mean_mr = df_temp[df_temp['Title'] == 'Mr']['Age'].mean()\n",
    "age_mean_mrs = df_temp[df_temp['Title'] == 'Mrs']['Age'].mean()\n",
    "age_mean_miss = df_temp[df_temp['Title'] == 'Miss']['Age'].mean()\n",
    "age_mean_master = df_temp[df_temp['Title'] == 'Master']['Age'].mean()\n",
    "age_mean_dr = df_temp[df_temp['Title'] == 'Dr']['Age'].mean()\n",
    "\n",
    "# assign value\n",
    "def set_missing_age(data):\n",
    "    for i, row in data.iterrows():\n",
    "        if row['MissingAge'] == True:\n",
    "            age = 0\n",
    "            if row['Title'] == 'Mr':\n",
    "                age = age_mean_mr\n",
    "            elif row['Title'] == 'Mrs':\n",
    "                age = age_mean_mrs\n",
    "            elif row['Title'] == 'Miss':\n",
    "                age = age_mean_miss\n",
    "            elif row['Title'] == 'Master':\n",
    "                age = age_mean_master\n",
    "            elif row['Title'] == 'Dr':\n",
    "                age = age_mean_dr\n",
    "            data.ix[i,'Age'] = age\n",
    "    return data\n",
    "df_full_age = set_missing_age(df_temp)"
   ]
  },
  {
   "cell_type": "code",
   "execution_count": 8,
   "metadata": {
    "collapsed": false
   },
   "outputs": [],
   "source": [
    "########################################\n",
    "# replace missing value for 'Embarked' #\n",
    "########################################\n",
    "port_mode = df.Embarked.dropna().mode().values[0]\n",
    "df_full_age['Embarked'].fillna(port_mode, inplace = True)"
   ]
  },
  {
   "cell_type": "code",
   "execution_count": 9,
   "metadata": {
    "collapsed": false
   },
   "outputs": [
    {
     "name": "stdout",
     "output_type": "stream",
     "text": [
      "<class 'pandas.core.frame.DataFrame'>\n",
      "RangeIndex: 891 entries, 0 to 890\n",
      "Data columns (total 14 columns):\n",
      "PassengerId    891 non-null int64\n",
      "Survived       891 non-null int64\n",
      "Pclass         891 non-null int64\n",
      "Name           891 non-null object\n",
      "Sex            891 non-null object\n",
      "Age            891 non-null float64\n",
      "SibSp          891 non-null int64\n",
      "Parch          891 non-null int64\n",
      "Ticket         891 non-null object\n",
      "Fare           891 non-null float64\n",
      "Cabin          204 non-null object\n",
      "Embarked       891 non-null object\n",
      "MissingAge     891 non-null bool\n",
      "Title          891 non-null object\n",
      "dtypes: bool(1), float64(2), int64(5), object(6)\n",
      "memory usage: 91.4+ KB\n"
     ]
    }
   ],
   "source": [
    "####################\n",
    "# check the result #\n",
    "####################\n",
    "df_full_age.info()"
   ]
  },
  {
   "cell_type": "markdown",
   "metadata": {},
   "source": [
    "Now as we can see, except 'Cabin', there are no missing values in the data."
   ]
  },
  {
   "cell_type": "markdown",
   "metadata": {},
   "source": [
    "### Duplicated data"
   ]
  },
  {
   "cell_type": "code",
   "execution_count": 10,
   "metadata": {
    "collapsed": false
   },
   "outputs": [
    {
     "name": "stdout",
     "output_type": "stream",
     "text": [
      "There is no duplicate name or ID.\n"
     ]
    }
   ],
   "source": [
    "############################\n",
    "# inspects duplicated data #\n",
    "############################\n",
    "duplicate_id = df_full_age['PassengerId'].duplicated().sum()\n",
    "duplicate_name = df_full_age['Name'].duplicated().sum()\n",
    "if duplicate_id == 0 & duplicate_name == 0:\n",
    "    print 'There is no duplicate name or ID.'\n",
    "elif duplicate_id == 0:\n",
    "    print 'There are {} duplicate Passaenger Names.'.format(duplicate_id)\n",
    "else:\n",
    "    print 'There are {} duplicate Passaenger IDs.'.format(duplicate_name)"
   ]
  },
  {
   "cell_type": "markdown",
   "metadata": {},
   "source": [
    "According to current inspection, we can assume that there are no duplicate data."
   ]
  },
  {
   "cell_type": "markdown",
   "metadata": {},
   "source": [
    "### More data cleaning"
   ]
  },
  {
   "cell_type": "code",
   "execution_count": 11,
   "metadata": {
    "collapsed": false
   },
   "outputs": [],
   "source": [
    "#####################################\n",
    "# set columns: Family', 'Embarked'  #\n",
    "#####################################\n",
    "# create 'Family' column to combine sibsp with parch (# of family members aboard the Titanic)\n",
    "family_col = pd.DataFrame(df_full_age['SibSp'] + df_full_age['Parch'], columns = ['Family'])\n",
    "# replace embarked port values with full port name (Cherbourg, Queenstown and Southampton)\n",
    "embarked_col = df_full_age['Embarked'].replace(['C', 'Q', 'S'], ['Cherbourg', 'Queenstown', 'Southampton'])"
   ]
  },
  {
   "cell_type": "code",
   "execution_count": 12,
   "metadata": {
    "collapsed": false
   },
   "outputs": [
    {
     "data": {
      "text/plain": [
       "array(['Man', 'Woman', 'Child'], dtype=object)"
      ]
     },
     "execution_count": 12,
     "metadata": {},
     "output_type": "execute_result"
    }
   ],
   "source": [
    "#######################\n",
    "# set 'Gender' column #\n",
    "#######################\n",
    "# determine whether the passenger is a child\n",
    "def is_child(age):\n",
    "    if age >= 16:\n",
    "        x = 0\n",
    "    else:\n",
    "        x = 2\n",
    "    return x\n",
    "# assign 2 to every child; 0, 1 to female and male\n",
    "child = df_full_age['Age'].apply(lambda x: pd.Series(is_child(x))).rename(columns={0: 'Gender'})\n",
    "sex = pd.DataFrame({'Gender': df_full_age['Sex'].replace(['female', 'male'], [0, 1])})\n",
    "# create 'Gender' column (Child, Woman and Man)\n",
    "gender_col = (child + sex).replace([0, 1, 2, 3], ['Woman', 'Man', 'Child', 'Child'])\n",
    "gender_col.Gender.unique()"
   ]
  },
  {
   "cell_type": "code",
   "execution_count": 13,
   "metadata": {
    "collapsed": false
   },
   "outputs": [
    {
     "data": {
      "text/plain": [
       "array([30, 40, 60, 10, 20, 70, 50, 80])"
      ]
     },
     "execution_count": 13,
     "metadata": {},
     "output_type": "execute_result"
    }
   ],
   "source": [
    "########################\n",
    "# set 'AgeRange column #\n",
    "########################\n",
    "# set age range\n",
    "def set_range(age):\n",
    "    if age <= 10.0:\n",
    "        x = 10\n",
    "    elif age <= 20.0:\n",
    "        x = 20\n",
    "    elif age <= 30.0:\n",
    "        x = 30\n",
    "    elif age <= 40.0:\n",
    "        x = 40\n",
    "    elif age <= 50.0:\n",
    "        x = 50\n",
    "    elif age <= 60.0:\n",
    "        x = 60\n",
    "    elif age <= 70.0:\n",
    "        x = 70\n",
    "    elif age <= 80.0:\n",
    "        x = 80\n",
    "    return x\n",
    "# assign values\n",
    "age_range_col = df_full_age['Age'].apply(lambda x: pd.Series(set_range(x))).rename(columns={0: 'AgeRange'})\n",
    "age_range_col.AgeRange.unique()"
   ]
  },
  {
   "cell_type": "code",
   "execution_count": 14,
   "metadata": {
    "collapsed": false
   },
   "outputs": [
    {
     "data": {
      "text/html": [
       "<div>\n",
       "<table border=\"1\" class=\"dataframe\">\n",
       "  <thead>\n",
       "    <tr style=\"text-align: right;\">\n",
       "      <th></th>\n",
       "      <th>PassengerId</th>\n",
       "      <th>Survived</th>\n",
       "      <th>Pclass</th>\n",
       "      <th>Age</th>\n",
       "      <th>SibSp</th>\n",
       "      <th>Parch</th>\n",
       "      <th>Fare</th>\n",
       "      <th>Title</th>\n",
       "      <th>Gender</th>\n",
       "      <th>AgeRange</th>\n",
       "      <th>Family</th>\n",
       "      <th>Embarked</th>\n",
       "    </tr>\n",
       "  </thead>\n",
       "  <tbody>\n",
       "    <tr>\n",
       "      <th>0</th>\n",
       "      <td>1</td>\n",
       "      <td>0</td>\n",
       "      <td>3</td>\n",
       "      <td>22.0</td>\n",
       "      <td>1</td>\n",
       "      <td>0</td>\n",
       "      <td>7.2500</td>\n",
       "      <td>Mr</td>\n",
       "      <td>Man</td>\n",
       "      <td>30</td>\n",
       "      <td>1</td>\n",
       "      <td>Southampton</td>\n",
       "    </tr>\n",
       "    <tr>\n",
       "      <th>1</th>\n",
       "      <td>2</td>\n",
       "      <td>1</td>\n",
       "      <td>1</td>\n",
       "      <td>38.0</td>\n",
       "      <td>1</td>\n",
       "      <td>0</td>\n",
       "      <td>71.2833</td>\n",
       "      <td>Mrs</td>\n",
       "      <td>Woman</td>\n",
       "      <td>40</td>\n",
       "      <td>1</td>\n",
       "      <td>Cherbourg</td>\n",
       "    </tr>\n",
       "    <tr>\n",
       "      <th>2</th>\n",
       "      <td>3</td>\n",
       "      <td>1</td>\n",
       "      <td>3</td>\n",
       "      <td>26.0</td>\n",
       "      <td>0</td>\n",
       "      <td>0</td>\n",
       "      <td>7.9250</td>\n",
       "      <td>Miss</td>\n",
       "      <td>Woman</td>\n",
       "      <td>30</td>\n",
       "      <td>0</td>\n",
       "      <td>Southampton</td>\n",
       "    </tr>\n",
       "  </tbody>\n",
       "</table>\n",
       "</div>"
      ],
      "text/plain": [
       "   PassengerId  Survived  Pclass   Age  SibSp  Parch     Fare Title Gender  \\\n",
       "0            1         0       3  22.0      1      0   7.2500    Mr    Man   \n",
       "1            2         1       1  38.0      1      0  71.2833   Mrs  Woman   \n",
       "2            3         1       3  26.0      0      0   7.9250  Miss  Woman   \n",
       "\n",
       "   AgeRange  Family     Embarked  \n",
       "0        30       1  Southampton  \n",
       "1        40       1    Cherbourg  \n",
       "2        30       0  Southampton  "
      ]
     },
     "execution_count": 14,
     "metadata": {},
     "output_type": "execute_result"
    }
   ],
   "source": [
    "##########################\n",
    "# Generate the dataframe #\n",
    "##########################\n",
    "# drop unnessisary columns\n",
    "df_drop = df_full_age.drop(['MissingAge', 'Name', 'Sex', 'Ticket', 'Cabin', 'Embarked'], axis = 1)\n",
    "# concats data with new columns\n",
    "df_titanic = pd.concat([df_drop, gender_col, age_range_col, family_col, embarked_col], axis = 1)\n",
    "df_titanic.head(3)"
   ]
  },
  {
   "cell_type": "markdown",
   "metadata": {},
   "source": [
    "This is the data our exploration will based on"
   ]
  },
  {
   "cell_type": "markdown",
   "metadata": {},
   "source": [
    "## Explore data\n",
    "\n",
    "With the data prepared, now we can start to explore."
   ]
  },
  {
   "cell_type": "markdown",
   "metadata": {},
   "source": [
    "### In general"
   ]
  },
  {
   "cell_type": "code",
   "execution_count": 15,
   "metadata": {
    "collapsed": false
   },
   "outputs": [
    {
     "data": {
      "image/png": "[encoded data removed]",
      "text/plain": [
       "<matplotlib.figure.Figure at 0x10df682d0>"
      ]
     },
     "metadata": {},
     "output_type": "display_data"
    }
   ],
   "source": [
    "# set global plot parameters\n",
    "color_sur = 'teal'\n",
    "color_vic = 'darkgrey'\n",
    "color_class1 = 'goldenrod'\n",
    "color_class2 = 'silver'\n",
    "color_class3 = 'white'\n",
    "color_child = 'lightseagreen'\n",
    "color_woman = 'coral'\n",
    "color_man = 'darkgrey'\n",
    "lable_sur = 'Survived'\n",
    "lable_vic = 'Did not survive'\n",
    "\n",
    "##########################################\n",
    "# visulizes survival statistics with age #\n",
    "##########################################\n",
    "# sets age graph parameters\n",
    "age_min = df_titanic['Age'].min()\n",
    "age_max = df_titanic['Age'].max()\n",
    "age_bins = np.arange(0, age_max + 10, 10)\n",
    "# survivors vs. victims\n",
    "victims = df_titanic[df_titanic['Survived'] == 0]['Age'].reset_index(drop = True)\n",
    "survivors = df_titanic[df_titanic['Survived'] == 1]['Age'].reset_index(drop = True)\n",
    "# plots\n",
    "plt.hist(victims, bins = age_bins, label = lable_vic, color = color_vic, alpha = 0.7)\n",
    "plt.hist(survivors, bins = age_bins, label = lable_sur, color = color_sur)\n",
    "plt.xlim(0, 80)\n",
    "plt.legend(framealpha = 0.8)\n",
    "plt.xlabel('Age in Years')\n",
    "plt.ylabel('Number of Passengers')\n",
    "plt.title('Distribution of Passenger Age')\n",
    "plt.show()"
   ]
  },
  {
   "cell_type": "markdown",
   "metadata": {},
   "source": [
    "From this plot we can see that most passengers are in middle-aged, and from 0 to 10 years old passengers seem to have a higher survival rate. We'll go deeper later."
   ]
  },
  {
   "cell_type": "code",
   "execution_count": 16,
   "metadata": {
    "collapsed": false
   },
   "outputs": [
    {
     "data": {
      "text/plain": [
       "array([<matplotlib.axes._subplots.AxesSubplot object at 0x10e331950>,\n",
       "       <matplotlib.axes._subplots.AxesSubplot object at 0x10e3b1ed0>], dtype=object)"
      ]
     },
     "execution_count": 16,
     "metadata": {},
     "output_type": "execute_result"
    },
    {
     "data": {
      "image/png": "[encoded data removed]",
      "text/plain": [
       "<matplotlib.figure.Figure at 0x10e0bf390>"
      ]
     },
     "metadata": {},
     "output_type": "display_data"
    }
   ],
   "source": [
    "#############################################\n",
    "# visulizes survival statistics with pclass #\n",
    "#############################################\n",
    "# sets data to sum passenger numbers grouped by pclass\n",
    "group_count_pclass_all = df_titanic.groupby('Pclass')['PassengerId'].count()\n",
    "group_count_pclass_sur = df_titanic[df_titanic.Survived==1].groupby('Pclass')['PassengerId'].count()\n",
    "group_count_pclass = pd.concat([group_count_pclass_all, group_count_pclass_sur], axis=1)\n",
    "group_count_pclass.columns = ['Passengers','Survivors']\n",
    "# plot pie charts\n",
    "colors = [color_class3, color_class2, color_class1]\n",
    "lables = ['3rd Class', '2nd Class', '1st Class']\n",
    "title = 'Pie Charts with Passenger Class (All Passengers vs. Survived Passengers)'\n",
    "group_count_pclass.plot.pie(subplots=True, figsize=(8, 4), autopct='%1.1f%%', legend=False, colors=colors,\\\n",
    "                            labels=lables, title=title, startangle = 170)"
   ]
  },
  {
   "cell_type": "markdown",
   "metadata": {},
   "source": [
    "This plot shows us the proportion of three passenger classes. As can be seen from the left, the proportion of 1st-class passenger is the highest (55.1%). But when we look at the pie chart on the right, situation has changed, the 3rd-class stands out. Does this mean a higher survival rate for the 3rd-class passengers? We will come out later."
   ]
  },
  {
   "cell_type": "code",
   "execution_count": 17,
   "metadata": {
    "collapsed": false
   },
   "outputs": [
    {
     "data": {
      "image/png": "[encoded data removed]",
      "text/plain": [
       "<matplotlib.figure.Figure at 0x10e06e7d0>"
      ]
     },
     "metadata": {},
     "output_type": "display_data"
    }
   ],
   "source": [
    "#############################################\n",
    "# visulizes survival statistics with gender #\n",
    "#############################################\n",
    "cate = ['Child', 'Woman', 'Man']          \n",
    "# sets data to sum passenger numbers grouped by gender\n",
    "cate_df = pd.DataFrame(index = np.arange(len(cate)), columns=('Gender','survivors','victims'))\n",
    "for i, cate_value in enumerate(cate):\n",
    "    cate_df.loc[i] = [cate_value, len(df_titanic[(df_titanic['Survived']==1) & (df_titanic['Gender']==cate_value)]),\\\n",
    "                      len(df_titanic[(df_titanic['Survived']==0) & (df_titanic['Gender']== cate_value)])]     \n",
    "# plots survivors vs. victims\n",
    "binwidth = 0.4\n",
    "for i, cate_value in enumerate(cate):\n",
    "    victims_plt = plt.bar(i - binwidth, cate_df.loc[i]['victims'], width = binwidth, color = color_vic, alpha = 0.7)\n",
    "    survivors_plt = plt.bar(i, cate_df.loc[i]['survivors'], width = binwidth, color = color_sur)\n",
    "plt.xticks(np.arange(len(cate_df)), cate)\n",
    "plt.legend((victims_plt[0], survivors_plt[0]),(lable_vic, lable_sur), loc = 2, framealpha = 0.8)\n",
    "plt.ylim(0, 470)\n",
    "plt.xlabel('Gender')\n",
    "plt.ylabel('Number of Passengers')\n",
    "plt.title('Passenger Survival Statistics with Gender')\n",
    "plt.show()"
   ]
  },
  {
   "cell_type": "markdown",
   "metadata": {},
   "source": [
    "Obviously, more women survived. And the survival rate of woman passengers is also higher. It seems that \"Gender\" will be an important factor in the survival, we must need further investigation."
   ]
  },
  {
   "cell_type": "markdown",
   "metadata": {},
   "source": [
    "### Survival Rate\n",
    "Now it's time to investigate data from the perspective of survival rate."
   ]
  },
  {
   "cell_type": "code",
   "execution_count": 18,
   "metadata": {
    "collapsed": false
   },
   "outputs": [
    {
     "data": {
      "text/plain": [
       "Pclass\n",
       "1    62.962963\n",
       "2    47.282609\n",
       "3    24.236253\n",
       "Name: Survival Rate, dtype: float64"
      ]
     },
     "execution_count": 18,
     "metadata": {},
     "output_type": "execute_result"
    }
   ],
   "source": [
    "####################################\n",
    "# get survival rate for given keys #\n",
    "####################################\n",
    "# keys=['key_1', ..., 'key_n'] n<=5\n",
    "# single_col=True outputs dataframe with single column\n",
    "def get_sur_rate(data, keys, single_col=False):\n",
    "    n = len(keys)\n",
    "    data_sur = filter_data(data, ['Survived == 1'])\n",
    "    key_0 = 'PassengerId'\n",
    "    key_1 = keys[0]\n",
    "    if n==5:\n",
    "        key_2 = keys[1]\n",
    "        key_3 = keys[2]\n",
    "        key_4 = keys[3]\n",
    "        key_5 = keys[4]\n",
    "        g_all = pd.DataFrame({key_1: data[key_1], key_2: data[key_2], key_3: data[key_3], key_4: data[key_4],\\\n",
    "                              key_5: data[key_5],\\\n",
    "                              'Survival Rate': data[key_0]}).groupby([key_1, key_2, key_3, key_4, key_5]).count()\n",
    "        g_sur = pd.DataFrame({key_1: data[key_1], key_2: data[key_2], key_3: data[key_3], key_4: data[key_4],\\\n",
    "                              key_5: data[key_5],\\\n",
    "                              'Survival Rate': data[key_0]}).groupby([key_1, key_2, key_3, key_4, key_5]).count()\n",
    "    elif n==4:\n",
    "        key_2 = keys[1]\n",
    "        key_3 = keys[2]\n",
    "        key_4 = keys[3]\n",
    "        g_all = pd.DataFrame({key_1: data[key_1], key_2: data[key_2], key_3: data[key_3], key_4: data[key_4],\\\n",
    "                              'Survival Rate': data[key_0]}).groupby([key_1, key_2, key_3, key_4]).count()\n",
    "        g_sur = pd.DataFrame({key_1: data_sur[key_1], key_2: data_sur[key_2], key_3: data_sur[key_3],\\\n",
    "                              key_4: data_sur[key_4],\\\n",
    "                              'Survival Rate': data_sur[key_0]}).groupby([key_1, key_2, key_3, key_4]).count()\n",
    "    elif n==3:\n",
    "        key_2 = keys[1]\n",
    "        key_3 = keys[2]\n",
    "        g_all = pd.DataFrame({key_1: data[key_1], key_2: data[key_2], key_3: data[key_3],\\\n",
    "                              'Survival Rate': data[key_0]}).groupby([key_1, key_2, key_3]).count()\n",
    "        g_sur = pd.DataFrame({key_1: data_sur[key_1], key_2: data_sur[key_2], key_3: data_sur[key_3],\\\n",
    "                              'Survival Rate': data_sur[key_0]}).groupby([key_1, key_2, key_3]).count()\n",
    "    elif n==2:\n",
    "        key_2 = keys[1]\n",
    "        g_all = pd.DataFrame({key_1: data[key_1], key_2: data[key_2],\\\n",
    "                              'Survival Rate': data[key_0]}).groupby([key_1, key_2]).count()\n",
    "        g_sur = pd.DataFrame({key_1: data_sur[key_1], key_2: data_sur[key_2],\\\n",
    "                              'Survival Rate': data_sur[key_0]}).groupby([key_1, key_2]).count()\n",
    "    elif n==1:\n",
    "        g_all = pd.DataFrame({key_1: data[key_1],\\\n",
    "                              'Survival Rate': data[key_0]}).groupby([key_1]).count()\n",
    "        g_sur = pd.DataFrame({key_1: data_sur[key_1],\\\n",
    "                              'Survival Rate': data_sur[key_0]}).groupby([key_1]).count()\n",
    "    c = (g_sur / g_all * 100).reset_index()\n",
    "    if single_col == True:\n",
    "        sur = c['Survival Rate']\n",
    "        sur.index = c[key_1]\n",
    "    else:\n",
    "        sur = c\n",
    "    return sur\n",
    "# example\n",
    "get_sur_rate(df_titanic, ['Pclass'], single_col=True)"
   ]
  },
  {
   "cell_type": "code",
   "execution_count": 19,
   "metadata": {
    "collapsed": false
   },
   "outputs": [
    {
     "data": {
      "image/png": "[encoded data removed]",
      "text/plain": [
       "<matplotlib.figure.Figure at 0x10e0bf890>"
      ]
     },
     "metadata": {},
     "output_type": "display_data"
    },
    {
     "data": {
      "text/plain": [
       "0-10     58.823529\n",
       "10-20    38.260870\n",
       "20-30    39.849624\n",
       "30-40    33.333333\n",
       "40-50    37.931034\n",
       "50-60    40.476190\n",
       "60-70    23.529412\n",
       "70-80    20.000000\n",
       "Name: Survival Rate, dtype: float64"
      ]
     },
     "execution_count": 19,
     "metadata": {},
     "output_type": "execute_result"
    }
   ],
   "source": [
    "# visulize survival rate with age range\n",
    "age_range_sur = get_sur_rate(df_titanic, ['AgeRange'], single_col=True)\n",
    "age_range_sur.index = ['0-10','10-20','20-30','30-40','40-50','50-60','60-70','70-80']\n",
    "age_range_sur.plot.bar(legend = False)\n",
    "plt.xlabel('Age in Years')\n",
    "plt.ylabel('Survival Rate %')\n",
    "plt.title('Survival Rate with Age')\n",
    "plt.ylim(0, 100)\n",
    "plt.show()\n",
    "age_range_sur"
   ]
  },
  {
   "cell_type": "markdown",
   "metadata": {},
   "source": [
    "As expected, the survival rate of 0 to 10 years old passengers is  the highest, reaching 58.82%. But for other age ranges, the difference in survival rate does not seem too obvious."
   ]
  },
  {
   "cell_type": "code",
   "execution_count": 20,
   "metadata": {
    "collapsed": false
   },
   "outputs": [
    {
     "data": {
      "image/png": "[encoded data removed]",
      "text/plain": [
       "<matplotlib.figure.Figure at 0x10e099f50>"
      ]
     },
     "metadata": {},
     "output_type": "display_data"
    }
   ],
   "source": [
    "# visulize survival rate with number of family members aboard\n",
    "family_sur = get_sur_rate(df_titanic, ['Family'], single_col=True)\n",
    "family_sur.plot.bar(legend = False)\n",
    "plt.xlabel('Number of Family Members Aboard')\n",
    "plt.ylabel('Survival Rate %')\n",
    "plt.title('Survival Rate with Family Members')\n",
    "plt.ylim(0, 100)\n",
    "plt.show()"
   ]
  },
  {
   "cell_type": "markdown",
   "metadata": {},
   "source": [
    "Passengers with 3 family members aboard (not include herself) seem to have a higher survival rate. Is this a coincidence? We'll get this back later."
   ]
  },
  {
   "cell_type": "code",
   "execution_count": 21,
   "metadata": {
    "collapsed": false
   },
   "outputs": [
    {
     "data": {
      "image/png": "[encoded data removed]",
      "text/plain": [
       "<matplotlib.figure.Figure at 0x10dfe0450>"
      ]
     },
     "metadata": {},
     "output_type": "display_data"
    }
   ],
   "source": [
    "# visulize survival rate with gender category\n",
    "gender_sur = get_sur_rate(df_titanic, ['Gender'], single_col=True)\n",
    "gender_sur.sort_values().plot.barh(legend = False)\n",
    "plt.xlabel('Survival Rate %')\n",
    "plt.title('Survival Rate with Gender')\n",
    "plt.xlim(0, 100)\n",
    "plt.show()"
   ]
  },
  {
   "cell_type": "markdown",
   "metadata": {},
   "source": [
    "Once again, the data proves that women in Titanic have higher survival rate than that of men, and even children.\n",
    "\n",
    "This is in line with the famous \"women and children first\" principle which might be a reason to result in the death of thousand of passengers and crew."
   ]
  },
  {
   "cell_type": "code",
   "execution_count": 22,
   "metadata": {
    "collapsed": false
   },
   "outputs": [
    {
     "data": {
      "image/png": "[encoded data removed]",
      "text/plain": [
       "<matplotlib.figure.Figure at 0x1114c3910>"
      ]
     },
     "metadata": {},
     "output_type": "display_data"
    },
    {
     "data": {
      "text/plain": [
       "1st Class    62.962963\n",
       "2nd Class    47.282609\n",
       "3rd Class    24.236253\n",
       "Name: Survival Rate, dtype: float64"
      ]
     },
     "execution_count": 22,
     "metadata": {},
     "output_type": "execute_result"
    }
   ],
   "source": [
    "# visulize survival rate with passenger class category\n",
    "pclass_sur = get_sur_rate(df_titanic, ['Pclass'], single_col=True)\n",
    "pclass_sur.index = ['1st Class','2nd Class','3rd Class']\n",
    "pclass_sur.plot.barh(legend = False)\n",
    "plt.ylabel('Passenger Class')\n",
    "plt.xlabel('Survival Rate %')\n",
    "plt.title('Survival Rate with Passenger Class')\n",
    "plt.xlim(0, 100)\n",
    "plt.show()\n",
    "pclass_sur"
   ]
  },
  {
   "cell_type": "markdown",
   "metadata": {},
   "source": [
    "This plot tells a better story than previous pie charts. First-class passengers in Titanic have the highest survival rate, followed by second-class, and finally third-class.\n",
    "\n",
    "Actually it is consistent with the story we’ve heard about. \n",
    "* First-class passengers got better help from the crew. \n",
    "* First-class cabins are closer to lifeboats. \n",
    "* A lot of third-class passengers were non-English speaking meant it was hard for them to get useful information to escape.\n",
    "* etc"
   ]
  },
  {
   "cell_type": "code",
   "execution_count": 23,
   "metadata": {
    "collapsed": false,
    "scrolled": true
   },
   "outputs": [
    {
     "data": {
      "image/png": "[encoded data removed]",
      "text/plain": [
       "<matplotlib.figure.Figure at 0x111679450>"
      ]
     },
     "metadata": {},
     "output_type": "display_data"
    }
   ],
   "source": [
    "# visulize survival rate with embarked port\n",
    "embarked_sur = get_sur_rate(df_titanic, ['Embarked'], single_col=True)\n",
    "embarked_sur.plot.barh(legend = False)\n",
    "plt.ylabel('Embarked Port')\n",
    "plt.xlabel('Survival Rate %')\n",
    "plt.title('Survival Rate with Embarked Port')\n",
    "plt.xlim(0, 100)\n",
    "plt.show()"
   ]
  },
  {
   "cell_type": "markdown",
   "metadata": {},
   "source": [
    "This one is very interesting. 34%, 39% and 55%, why is the survival rate of passengers from Cherbourg so much higher than the other two (at least 15%)? Should it be a key factor? We'll discuss it later."
   ]
  },
  {
   "cell_type": "markdown",
   "metadata": {},
   "source": [
    "#### Category combination\n",
    "We'll show survival statistics by combining several valid categories"
   ]
  },
  {
   "cell_type": "code",
   "execution_count": 24,
   "metadata": {
    "collapsed": false
   },
   "outputs": [
    {
     "data": {
      "text/html": [
       "<div>\n",
       "<table border=\"1\" class=\"dataframe\">\n",
       "  <thead>\n",
       "    <tr style=\"text-align: right;\">\n",
       "      <th></th>\n",
       "      <th>Pclass</th>\n",
       "      <th>Gender</th>\n",
       "      <th>Family</th>\n",
       "      <th>AgeRange</th>\n",
       "      <th>Embarked</th>\n",
       "      <th>Survival Rate</th>\n",
       "    </tr>\n",
       "  </thead>\n",
       "  <tbody>\n",
       "    <tr>\n",
       "      <th>0</th>\n",
       "      <td>1</td>\n",
       "      <td>Child</td>\n",
       "      <td>1</td>\n",
       "      <td>20</td>\n",
       "      <td>Southampton</td>\n",
       "      <td>100.0</td>\n",
       "    </tr>\n",
       "    <tr>\n",
       "      <th>1</th>\n",
       "      <td>1</td>\n",
       "      <td>Child</td>\n",
       "      <td>2</td>\n",
       "      <td>10</td>\n",
       "      <td>Southampton</td>\n",
       "      <td>100.0</td>\n",
       "    </tr>\n",
       "    <tr>\n",
       "      <th>2</th>\n",
       "      <td>1</td>\n",
       "      <td>Child</td>\n",
       "      <td>3</td>\n",
       "      <td>10</td>\n",
       "      <td>Southampton</td>\n",
       "      <td>100.0</td>\n",
       "    </tr>\n",
       "  </tbody>\n",
       "</table>\n",
       "</div>"
      ],
      "text/plain": [
       "   Pclass Gender  Family  AgeRange     Embarked  Survival Rate\n",
       "0       1  Child       1        20  Southampton          100.0\n",
       "1       1  Child       2        10  Southampton          100.0\n",
       "2       1  Child       3        10  Southampton          100.0"
      ]
     },
     "execution_count": 24,
     "metadata": {},
     "output_type": "execute_result"
    }
   ],
   "source": [
    "# combine categories of 'Pclass', 'Gender', 'Family', 'AgeRange', 'Embarked' and get survival rate\n",
    "cate_sur_rate = get_sur_rate(df_titanic, ['Pclass', 'Gender', 'Family', 'AgeRange', 'Embarked'])\n",
    "cate_sur_rate.head(3)"
   ]
  },
  {
   "cell_type": "code",
   "execution_count": 25,
   "metadata": {
    "collapsed": false
   },
   "outputs": [
    {
     "data": {
      "text/html": [
       "<div>\n",
       "<table border=\"1\" class=\"dataframe\">\n",
       "  <thead>\n",
       "    <tr style=\"text-align: right;\">\n",
       "      <th></th>\n",
       "      <th>Pclass</th>\n",
       "      <th>Gender</th>\n",
       "      <th>Family</th>\n",
       "      <th>AgeRange</th>\n",
       "      <th>Embarked</th>\n",
       "      <th>Survival Rate</th>\n",
       "    </tr>\n",
       "  </thead>\n",
       "  <tbody>\n",
       "    <tr>\n",
       "      <th>Pclass</th>\n",
       "      <td>1.000000</td>\n",
       "      <td>0.021802</td>\n",
       "      <td>0.200587</td>\n",
       "      <td>-0.261059</td>\n",
       "      <td>-0.081552</td>\n",
       "      <td>NaN</td>\n",
       "    </tr>\n",
       "    <tr>\n",
       "      <th>Gender</th>\n",
       "      <td>0.021802</td>\n",
       "      <td>1.000000</td>\n",
       "      <td>0.098354</td>\n",
       "      <td>-0.146258</td>\n",
       "      <td>-0.025453</td>\n",
       "      <td>NaN</td>\n",
       "    </tr>\n",
       "    <tr>\n",
       "      <th>Family</th>\n",
       "      <td>0.200587</td>\n",
       "      <td>0.098354</td>\n",
       "      <td>1.000000</td>\n",
       "      <td>-0.265038</td>\n",
       "      <td>-0.224943</td>\n",
       "      <td>NaN</td>\n",
       "    </tr>\n",
       "    <tr>\n",
       "      <th>AgeRange</th>\n",
       "      <td>-0.261059</td>\n",
       "      <td>-0.146258</td>\n",
       "      <td>-0.265038</td>\n",
       "      <td>1.000000</td>\n",
       "      <td>-0.057935</td>\n",
       "      <td>NaN</td>\n",
       "    </tr>\n",
       "    <tr>\n",
       "      <th>Embarked</th>\n",
       "      <td>-0.081552</td>\n",
       "      <td>-0.025453</td>\n",
       "      <td>-0.224943</td>\n",
       "      <td>-0.057935</td>\n",
       "      <td>1.000000</td>\n",
       "      <td>NaN</td>\n",
       "    </tr>\n",
       "    <tr>\n",
       "      <th>Survival Rate</th>\n",
       "      <td>NaN</td>\n",
       "      <td>NaN</td>\n",
       "      <td>NaN</td>\n",
       "      <td>NaN</td>\n",
       "      <td>NaN</td>\n",
       "      <td>NaN</td>\n",
       "    </tr>\n",
       "  </tbody>\n",
       "</table>\n",
       "</div>"
      ],
      "text/plain": [
       "                 Pclass    Gender    Family  AgeRange  Embarked  Survival Rate\n",
       "Pclass         1.000000  0.021802  0.200587 -0.261059 -0.081552            NaN\n",
       "Gender         0.021802  1.000000  0.098354 -0.146258 -0.025453            NaN\n",
       "Family         0.200587  0.098354  1.000000 -0.265038 -0.224943            NaN\n",
       "AgeRange      -0.261059 -0.146258 -0.265038  1.000000 -0.057935            NaN\n",
       "Embarked      -0.081552 -0.025453 -0.224943 -0.057935  1.000000            NaN\n",
       "Survival Rate       NaN       NaN       NaN       NaN       NaN            NaN"
      ]
     },
     "execution_count": 25,
     "metadata": {},
     "output_type": "execute_result"
    }
   ],
   "source": [
    "###############\n",
    "# correlation #\n",
    "###############\n",
    "# reset categorical variables ('Gender' and 'Embarked') into numerical\n",
    "# order: the same order with the survial rate\n",
    "cate_sur_rate['Gender'].replace('Man', 1, inplace=True)\n",
    "cate_sur_rate['Gender'].replace('Child', 2, inplace=True)\n",
    "cate_sur_rate['Gender'].replace('Woman', 3, inplace=True)\n",
    "cate_sur_rate['Embarked'].replace('Southampton', 1, inplace=True)\n",
    "cate_sur_rate['Embarked'].replace('Queenstown', 2, inplace=True)\n",
    "cate_sur_rate['Embarked'].replace('Cherbourg', 3, inplace=True)\n",
    "# show correlation of these categories\n",
    "cate_sur_rate.corr()"
   ]
  },
  {
   "cell_type": "markdown",
   "metadata": {
    "collapsed": true
   },
   "source": [
    "Either the last row or the last column can tells us the correlation between each category and the survival rate. This is, from high to low: Gender (0.65), Pclass (-0.31), Family (0.29), Embarked (0.7%), AgeRange (-0.7%). \n",
    "\n",
    "Gender, as we disscussed, it's obvious that survival rate of women, children and of men diminishes.\n",
    "\n",
    "Pclass obtains a negative correlation with survival rate. This means from 1st class to 2nd and 3rd classes, if class number increases the survival rate decreases. That's what we talked about.\n",
    "\n",
    "Family, as our previous explorations show, from 0 to 3 (family members), the survival rate increases, after that the situation is more complex. But from the correlation statistic, there may be some kind of impact.\n",
    "\n",
    "Embarked and AgeRange share a low correlation with the survival rate. Although passengers from Cherbourg do have a higher survival rate than others, this effect may not be straightforward. As to AgeRange, in addition to age rang 0-10, the difference in survival rates among other age ranges is not obvious."
   ]
  },
  {
   "cell_type": "markdown",
   "metadata": {},
   "source": [
    "#### About family members"
   ]
  },
  {
   "cell_type": "code",
   "execution_count": 26,
   "metadata": {
    "collapsed": false
   },
   "outputs": [
    {
     "name": "stdout",
     "output_type": "stream",
     "text": [
      "11 out of 29 passengers who have 3 family members aboard are women (37%),12 are children (41%), only 6 are men (20%).\n",
      "Among these, 7 are first-class passengers (24%), 13 are second class (44%),and 9 are third class (31%).\n"
     ]
    }
   ],
   "source": [
    "# explore data of passengers who have 3 family members aboard\n",
    "df_f3 = filter_data(df_titanic, ['Family == 3'])\n",
    "n_total = len(df_f3)\n",
    "n_w = (df_f3.Gender == 'Woman').sum()\n",
    "n_c = (df_f3.Gender == 'Child').sum()\n",
    "n_m = (df_f3.Gender == 'Man').sum()\n",
    "n_1st = (df_f3.Pclass == 1).sum()\n",
    "n_2nd = (df_f3.Pclass == 2).sum()\n",
    "n_3rd = (df_f3.Pclass == 3).sum()\n",
    "print '{} out of {} passengers who have 3 family members aboard are women ({}%),\\\n",
    "{} are children ({}%), only {} are men ({}%).'.format(n_w, n_total, n_w*100/n_total, n_c, n_c*100/n_total,\\\n",
    "                                                      n_m, n_m*100/n_total)\n",
    "print 'Among these, {} are first-class passengers ({}%), {} are second class ({}%),\\\n",
    "and {} are third class ({}%).'.format(n_1st, n_1st*100/n_total, n_2nd, n_2nd*100/n_total, n_3rd, n_3rd*100/n_total)"
   ]
  },
  {
   "cell_type": "code",
   "execution_count": 27,
   "metadata": {
    "collapsed": false
   },
   "outputs": [
    {
     "name": "stdout",
     "output_type": "stream",
     "text": [
      "6 out of 22 passengers who have 3 family members aboard are women (27%),12 are children (54%), only 4 are men (18%).\n",
      "Among these, 4 are first-class passengers (18%), 1 are second class (4%),and 17 are third class (77%).\n"
     ]
    }
   ],
   "source": [
    "# show the passenger data of five family members as a comparison\n",
    "df_f5 = filter_data(df_titanic, ['Family == 5'])\n",
    "n_total = len(df_f5)\n",
    "n_w = (df_f5.Gender == 'Woman').sum()\n",
    "n_c = (df_f5.Gender == 'Child').sum()\n",
    "n_m = (df_f5.Gender == 'Man').sum()\n",
    "n_1st = (df_f5.Pclass == 1).sum()\n",
    "n_2nd = (df_f5.Pclass == 2).sum()\n",
    "n_3rd = (df_f5.Pclass == 3).sum()\n",
    "print '{} out of {} passengers who have 3 family members aboard are women ({}%),\\\n",
    "{} are children ({}%), only {} are men ({}%).'.format(n_w, n_total, n_w*100/n_total, n_c, n_c*100/n_total,\\\n",
    "                                                      n_m, n_m*100/n_total)\n",
    "print 'Among these, {} are first-class passengers ({}%), {} are second class ({}%),\\\n",
    "and {} are third class ({}%).'.format(n_1st, n_1st*100/n_total, n_2nd, n_2nd*100/n_total, n_3rd, n_3rd*100/n_total)"
   ]
  },
  {
   "cell_type": "code",
   "execution_count": 28,
   "metadata": {
    "collapsed": false
   },
   "outputs": [
    {
     "data": {
      "image/png": "[encoded data removed]",
      "text/plain": [
       "<matplotlib.figure.Figure at 0x1117deb50>"
      ]
     },
     "metadata": {},
     "output_type": "display_data"
    }
   ],
   "source": [
    "# set data for the plot\n",
    "df_f0to5 = filter_data(df_titanic, ['Family < 6'])\n",
    "pclass_family = df_f0to5.groupby(['Pclass','Family'])\n",
    "pclass_family_sur_rate = (pclass_family.sum() / pclass_family.count() * 100)['Survived']\n",
    "# visulize survival rate with family members and passenger class\n",
    "cate = [0, 1, 2, 3, 4, 5]\n",
    "x = np.array([1, 2, 3, 4, 5, 6])\n",
    "binwidth = 0.3\n",
    "for i, cate_value in enumerate(cate):\n",
    "    st_plt = plt.bar(x - binwidth, pclass_family_sur_rate[1], width = binwidth, color = color_class1)\n",
    "    nd_plt = plt.bar(x, pclass_family_sur_rate[2], width = binwidth, color = color_class2)\n",
    "    rd_plt = plt.bar(x + binwidth, pclass_family_sur_rate[3], width = binwidth, color = color_class3)\n",
    "plt.xticks(x, cate)\n",
    "plt.legend(['1st Class','2nd Class','3rd Class'], loc = 2)\n",
    "plt.ylim(0, 100)\n",
    "plt.xlabel('Number of Family Members Aboard')\n",
    "plt.ylabel('Survival Rate %')\n",
    "plt.title('Survival Rate with Family Members and Passenger Class')\n",
    "plt.show()"
   ]
  },
  {
   "cell_type": "markdown",
   "metadata": {},
   "source": [
    "In this case, passengers with 3 family members have higher proportion of first-class and second-class. We suspect that this may be the reason for their higher survival rate."
   ]
  },
  {
   "cell_type": "markdown",
   "metadata": {},
   "source": [
    "#### About embarked port"
   ]
  },
  {
   "cell_type": "code",
   "execution_count": 29,
   "metadata": {
    "collapsed": false
   },
   "outputs": [
    {
     "name": "stdout",
     "output_type": "stream",
     "text": [
      "60 out of 168 passengers from Cherbourg are women (35%), 20 are children (11%), 88 are men (52%).\n",
      "Among these, 85 are first-class passengers (50%), 17 are second class (10%),# and 66 are third class (39%).\n"
     ]
    }
   ],
   "source": [
    "# explore data of passengers from Cherbourg\n",
    "df_cherbourg = filter_data(df_titanic, ['Embarked == Cherbourg'])\n",
    "n_total = len(df_cherbourg)\n",
    "n_w = (df_cherbourg.Gender == 'Woman').sum()\n",
    "n_c = (df_cherbourg.Gender == 'Child').sum()\n",
    "n_m = (df_cherbourg.Gender == 'Man').sum()\n",
    "n_1st = (df_cherbourg.Pclass == 1).sum()\n",
    "n_2nd = (df_cherbourg.Pclass == 2).sum()\n",
    "n_3rd = (df_cherbourg.Pclass == 3).sum()\n",
    "print '{} out of {} passengers from Cherbourg are women ({}%), \\\n",
    "{} are children ({}%), {} are men ({}%).'.format(n_w, n_total, n_w*100/n_total, n_c, n_c*100/n_total,\\\n",
    "                                                 n_m, n_m*100/n_total)\n",
    "print 'Among these, {} are first-class passengers ({}%), {} are second class ({}%),\\\n",
    "# and {} are third class ({}%).'.format(n_1st, n_1st*100/n_total, n_2nd, n_2nd*100/n_total, n_3rd, n_3rd*100/n_total)"
   ]
  },
  {
   "cell_type": "code",
   "execution_count": 30,
   "metadata": {
    "collapsed": false
   },
   "outputs": [
    {
     "name": "stdout",
     "output_type": "stream",
     "text": [
      "176 out of 646 passengers from Cherbourg are women (27%), 62 are children (9%), 408 are men (63%).\n",
      "Among these, 129 are first-class passengers (19%), 164 are second class (25%),# and 353 are third class (54%).\n"
     ]
    }
   ],
   "source": [
    "# show Southampton passenger data as a comparison\n",
    "df_southampton = filter_data(df_titanic, ['Embarked == Southampton'])\n",
    "n_total = len(df_southampton)\n",
    "n_w = (df_southampton.Gender == 'Woman').sum()\n",
    "n_c = (df_southampton.Gender == 'Child').sum()\n",
    "n_m = (df_southampton.Gender == 'Man').sum()\n",
    "n_1st = (df_southampton.Pclass == 1).sum()\n",
    "n_2nd = (df_southampton.Pclass == 2).sum()\n",
    "n_3rd = (df_southampton.Pclass == 3).sum()\n",
    "print '{} out of {} passengers from Cherbourg are women ({}%), \\\n",
    "{} are children ({}%), {} are men ({}%).'.format(n_w, n_total, n_w*100/n_total, n_c, n_c*100/n_total,\\\n",
    "                                                 n_m, n_m*100/n_total)\n",
    "print 'Among these, {} are first-class passengers ({}%), {} are second class ({}%),\\\n",
    "# and {} are third class ({}%).'.format(n_1st, n_1st*100/n_total, n_2nd, n_2nd*100/n_total, n_3rd, n_3rd*100/n_total)"
   ]
  },
  {
   "cell_type": "code",
   "execution_count": 31,
   "metadata": {
    "collapsed": false
   },
   "outputs": [
    {
     "data": {
      "image/png": "[encoded data removed]",
      "text/plain": [
       "<matplotlib.figure.Figure at 0x1114ffe50>"
      ]
     },
     "metadata": {},
     "output_type": "display_data"
    }
   ],
   "source": [
    "# set data for the plot\n",
    "gender_embarked = df_titanic.groupby(['Gender','Embarked'])\n",
    "gender_embarked_sur_rate = (gender_embarked.sum() / gender_embarked.count() * 100)['Survived']\n",
    "# visulize survival rate with embarked port and gender\n",
    "cate = ['Cherbourg', 'Queenstown', 'Southampton']\n",
    "x = np.array([1, 2, 3])\n",
    "binwidth = 0.3\n",
    "for i, cate_value in enumerate(cate):\n",
    "    woman_plt = plt.bar(x - binwidth, gender_embarked_sur_rate.Woman, width = binwidth, color = color_woman)\n",
    "    child_plt = plt.bar(x, gender_embarked_sur_rate.Child, width = binwidth, color = color_child)\n",
    "    man_plt = plt.bar(x + binwidth, gender_embarked_sur_rate.Man, width = binwidth, color = color_man)\n",
    "plt.xticks(x, cate)\n",
    "plt.legend(['Woman','Child','Man'])\n",
    "plt.ylim(0, 100)\n",
    "plt.xlabel('Embarked Port')\n",
    "plt.ylabel('Survival Rate %')\n",
    "plt.title('Survival Rate with Embarked Port and Gender')\n",
    "plt.show()"
   ]
  },
  {
   "cell_type": "markdown",
   "metadata": {},
   "source": [
    "As we can see, the proportion of genders and proportion of ticket classes are all possible reasons for higher survival rate of Cherbourg."
   ]
  },
  {
   "cell_type": "markdown",
   "metadata": {},
   "source": [
    "## Conclusion\n",
    "\n",
    "Based on above analysis, although tentative, we could see indications that being a woman or a child rather than man, with upper social-economic standing (first class), may give better chance to survive in Titanic disaster.\n",
    "\n",
    "However we can not be certain that which factor plays the critical role. There are a lot of other factors that we did not take into account. Missing values of cabin data. The social role of passengers. Officer, priest or a royal member? Whether a child was with his parents? And, the data we investigated is only sample. It may be biased? We don't know."
   ]
  },
  {
   "cell_type": "markdown",
   "metadata": {},
   "source": [
    "### Predict\n",
    "\n",
    "I'm so curious, if I boarded the Titanic, could I survive? To answer this question, we'll need the following inormation.\n",
    "\n",
    "I am a female adult, with age range 30-40. Normally I travle alone.\n",
    "Ticket class? Let's have a look at the fare first.\n",
    "\n",
    "According to \"Facts About The RMS Titanic\" http://members.tripod.com/~titanic3/facts.html\n",
    "\n",
    "* First Class (parlor suite) £870 (50,000 USD today) \n",
    "* First Class (berth) £30 (1724 USD today) \n",
    "* Second Class £12 (690 USD today) \n",
    "* Third Class £3 to £8 (172 to 460 USD today)\n",
    "\n",
    "It looks like second class would be my choice.\n",
    "\n",
    "So here comes our data:\n",
    "* PassengerID: 2017\n",
    "* Pclass: 'Middle'\n",
    "* Gender: 'Woman'\n",
    "* AgeRange: 40\n",
    "* Family: 0\n",
    "\n",
    "Let's start from here."
   ]
  },
  {
   "cell_type": "code",
   "execution_count": 32,
   "metadata": {
    "collapsed": false
   },
   "outputs": [
    {
     "data": {
      "text/html": [
       "<div>\n",
       "<table border=\"1\" class=\"dataframe\">\n",
       "  <thead>\n",
       "    <tr style=\"text-align: right;\">\n",
       "      <th></th>\n",
       "      <th>PassengerId</th>\n",
       "      <th>Survived</th>\n",
       "      <th>Pclass</th>\n",
       "      <th>Age</th>\n",
       "      <th>SibSp</th>\n",
       "      <th>Parch</th>\n",
       "      <th>Fare</th>\n",
       "      <th>Title</th>\n",
       "      <th>Gender</th>\n",
       "      <th>AgeRange</th>\n",
       "      <th>Family</th>\n",
       "      <th>Embarked</th>\n",
       "    </tr>\n",
       "  </thead>\n",
       "  <tbody>\n",
       "    <tr>\n",
       "      <th>0</th>\n",
       "      <td>124</td>\n",
       "      <td>1</td>\n",
       "      <td>2</td>\n",
       "      <td>32.5</td>\n",
       "      <td>0</td>\n",
       "      <td>0</td>\n",
       "      <td>13.00</td>\n",
       "      <td>Miss</td>\n",
       "      <td>Woman</td>\n",
       "      <td>40</td>\n",
       "      <td>0</td>\n",
       "      <td>Southampton</td>\n",
       "    </tr>\n",
       "    <tr>\n",
       "      <th>1</th>\n",
       "      <td>162</td>\n",
       "      <td>1</td>\n",
       "      <td>2</td>\n",
       "      <td>40.0</td>\n",
       "      <td>0</td>\n",
       "      <td>0</td>\n",
       "      <td>15.75</td>\n",
       "      <td>Mrs</td>\n",
       "      <td>Woman</td>\n",
       "      <td>40</td>\n",
       "      <td>0</td>\n",
       "      <td>Southampton</td>\n",
       "    </tr>\n",
       "    <tr>\n",
       "      <th>2</th>\n",
       "      <td>191</td>\n",
       "      <td>1</td>\n",
       "      <td>2</td>\n",
       "      <td>32.0</td>\n",
       "      <td>0</td>\n",
       "      <td>0</td>\n",
       "      <td>13.00</td>\n",
       "      <td>Mrs</td>\n",
       "      <td>Woman</td>\n",
       "      <td>40</td>\n",
       "      <td>0</td>\n",
       "      <td>Southampton</td>\n",
       "    </tr>\n",
       "    <tr>\n",
       "      <th>3</th>\n",
       "      <td>212</td>\n",
       "      <td>1</td>\n",
       "      <td>2</td>\n",
       "      <td>35.0</td>\n",
       "      <td>0</td>\n",
       "      <td>0</td>\n",
       "      <td>21.00</td>\n",
       "      <td>Miss</td>\n",
       "      <td>Woman</td>\n",
       "      <td>40</td>\n",
       "      <td>0</td>\n",
       "      <td>Southampton</td>\n",
       "    </tr>\n",
       "    <tr>\n",
       "      <th>4</th>\n",
       "      <td>328</td>\n",
       "      <td>1</td>\n",
       "      <td>2</td>\n",
       "      <td>36.0</td>\n",
       "      <td>0</td>\n",
       "      <td>0</td>\n",
       "      <td>13.00</td>\n",
       "      <td>Mrs</td>\n",
       "      <td>Woman</td>\n",
       "      <td>40</td>\n",
       "      <td>0</td>\n",
       "      <td>Southampton</td>\n",
       "    </tr>\n",
       "    <tr>\n",
       "      <th>5</th>\n",
       "      <td>347</td>\n",
       "      <td>1</td>\n",
       "      <td>2</td>\n",
       "      <td>40.0</td>\n",
       "      <td>0</td>\n",
       "      <td>0</td>\n",
       "      <td>13.00</td>\n",
       "      <td>Miss</td>\n",
       "      <td>Woman</td>\n",
       "      <td>40</td>\n",
       "      <td>0</td>\n",
       "      <td>Southampton</td>\n",
       "    </tr>\n",
       "    <tr>\n",
       "      <th>6</th>\n",
       "      <td>358</td>\n",
       "      <td>0</td>\n",
       "      <td>2</td>\n",
       "      <td>38.0</td>\n",
       "      <td>0</td>\n",
       "      <td>0</td>\n",
       "      <td>13.00</td>\n",
       "      <td>Miss</td>\n",
       "      <td>Woman</td>\n",
       "      <td>40</td>\n",
       "      <td>0</td>\n",
       "      <td>Southampton</td>\n",
       "    </tr>\n",
       "    <tr>\n",
       "      <th>7</th>\n",
       "      <td>388</td>\n",
       "      <td>1</td>\n",
       "      <td>2</td>\n",
       "      <td>36.0</td>\n",
       "      <td>0</td>\n",
       "      <td>0</td>\n",
       "      <td>13.00</td>\n",
       "      <td>Miss</td>\n",
       "      <td>Woman</td>\n",
       "      <td>40</td>\n",
       "      <td>0</td>\n",
       "      <td>Southampton</td>\n",
       "    </tr>\n",
       "    <tr>\n",
       "      <th>8</th>\n",
       "      <td>517</td>\n",
       "      <td>1</td>\n",
       "      <td>2</td>\n",
       "      <td>34.0</td>\n",
       "      <td>0</td>\n",
       "      <td>0</td>\n",
       "      <td>10.50</td>\n",
       "      <td>Mrs</td>\n",
       "      <td>Woman</td>\n",
       "      <td>40</td>\n",
       "      <td>0</td>\n",
       "      <td>Southampton</td>\n",
       "    </tr>\n",
       "    <tr>\n",
       "      <th>9</th>\n",
       "      <td>577</td>\n",
       "      <td>1</td>\n",
       "      <td>2</td>\n",
       "      <td>34.0</td>\n",
       "      <td>0</td>\n",
       "      <td>0</td>\n",
       "      <td>13.00</td>\n",
       "      <td>Miss</td>\n",
       "      <td>Woman</td>\n",
       "      <td>40</td>\n",
       "      <td>0</td>\n",
       "      <td>Southampton</td>\n",
       "    </tr>\n",
       "  </tbody>\n",
       "</table>\n",
       "</div>"
      ],
      "text/plain": [
       "   PassengerId  Survived  Pclass   Age  SibSp  Parch   Fare Title Gender  \\\n",
       "0          124         1       2  32.5      0      0  13.00  Miss  Woman   \n",
       "1          162         1       2  40.0      0      0  15.75   Mrs  Woman   \n",
       "2          191         1       2  32.0      0      0  13.00   Mrs  Woman   \n",
       "3          212         1       2  35.0      0      0  21.00  Miss  Woman   \n",
       "4          328         1       2  36.0      0      0  13.00   Mrs  Woman   \n",
       "5          347         1       2  40.0      0      0  13.00  Miss  Woman   \n",
       "6          358         0       2  38.0      0      0  13.00  Miss  Woman   \n",
       "7          388         1       2  36.0      0      0  13.00  Miss  Woman   \n",
       "8          517         1       2  34.0      0      0  10.50   Mrs  Woman   \n",
       "9          577         1       2  34.0      0      0  13.00  Miss  Woman   \n",
       "\n",
       "   AgeRange  Family     Embarked  \n",
       "0        40       0  Southampton  \n",
       "1        40       0  Southampton  \n",
       "2        40       0  Southampton  \n",
       "3        40       0  Southampton  \n",
       "4        40       0  Southampton  \n",
       "5        40       0  Southampton  \n",
       "6        40       0  Southampton  \n",
       "7        40       0  Southampton  \n",
       "8        40       0  Southampton  \n",
       "9        40       0  Southampton  "
      ]
     },
     "execution_count": 32,
     "metadata": {},
     "output_type": "execute_result"
    }
   ],
   "source": [
    "test_data = filter_data(df_titanic, ['Pclass == 2', 'Gender == Woman', 'AgeRange == 40', 'Family == 0'])\n",
    "test_data"
   ]
  },
  {
   "cell_type": "code",
   "execution_count": 33,
   "metadata": {
    "collapsed": false
   },
   "outputs": [
    {
     "name": "stdout",
     "output_type": "stream",
     "text": [
      "Point estimate (survival rate): 90.0%\n"
     ]
    }
   ],
   "source": [
    "x_bar = test_data['Survived'].mean()\n",
    "print 'Point estimate (survival rate): {}%'.format(round(x_bar*100, 2))"
   ]
  },
  {
   "cell_type": "code",
   "execution_count": 34,
   "metadata": {
    "collapsed": false
   },
   "outputs": [
    {
     "name": "stdout",
     "output_type": "stream",
     "text": [
      "Interval estimate: 95% CI = (89.38%, 90.62%)\n"
     ]
    }
   ],
   "source": [
    "n = len(test_data)\n",
    "sigma = test_data['Survived'].std(ddof=1)\n",
    "t_critical = 1.96\n",
    "lower_bound = x_bar - (t_critical * sigma / np.square(n))\n",
    "upper_bound = x_bar + (t_critical * sigma / np.square(n))\n",
    "print 'Interval estimate: 95% CI = ({}%, {}%)'.format(round(lower_bound*100, 2), round(upper_bound*100, 2))"
   ]
  },
  {
   "cell_type": "markdown",
   "metadata": {},
   "source": [
    "Based on point estimation, I may have 90% chance to survived. And according to interval estimation (95% CI), There is a 95% probability that my survival rate is between 89.38% to 90.62%. Not TOO bad, isn't it?\n",
    "\n",
    "Again, all these estimation are based on our sample. And correlation does not imply causation."
   ]
  },
  {
   "cell_type": "markdown",
   "metadata": {
    "collapsed": false
   },
   "source": [
    "## References\n",
    "\n",
    "* Encyclopedia Titanica http://www.encyclopedia-titanica.org\n",
    "* Passengers of the RMS Titanic https://en.wikipedia.org/wiki/Passengers_of_the_RMS_Titanic\n",
    "* Facts About The RMS Titanic http://members.tripod.com/~titanic3/facts.html\n"
   ]
  }
 ],
 "metadata": {
  "anaconda-cloud": {},
  "kernelspec": {
   "display_name": "Python [conda env:DAND]",
   "language": "python",
   "name": "conda-env-DAND-py"
  },
  "language_info": {
   "codemirror_mode": {
    "name": "ipython",
    "version": 2
   },
   "file_extension": ".py",
   "mimetype": "text/x-python",
   "name": "python",
   "nbconvert_exporter": "python",
   "pygments_lexer": "ipython2",
   "version": "2.7.12"
  }
 },
 "nbformat": 4,
 "nbformat_minor": 2
}
