{
 "cells": [
  {
   "cell_type": "code",
   "execution_count": 1,
   "metadata": {
    "collapsed": true
   },
   "outputs": [],
   "source": [
    "from audit import *\n",
    "from process_osm import *\n",
    "\n",
    "# declare data\n",
    "datadir = './Data/'\n",
    "fname_all = 'istanbul_turkey.osm'\n",
    "fname_sample = 'sample_turkey.osm'\n",
    "OSM = datadir + fname_all\n",
    "SAMPLE = datadir + fname_sample"
   ]
  },
  {
   "cell_type": "markdown",
   "metadata": {},
   "source": [
    "### Data Audit"
   ]
  },
  {
   "cell_type": "code",
   "execution_count": 2,
   "metadata": {},
   "outputs": [
    {
     "name": "stdout",
     "output_type": "stream",
     "text": [
      "\n",
      "OSM tag: 1;\n",
      "Node tag: 1231292;\n",
      "Way tag: 205829;\n",
      "Relaton tag: 747\n",
      "    \n"
     ]
    }
   ],
   "source": [
    "# count the elements of different tags\n",
    "count_tags(OSM)"
   ]
  },
  {
   "cell_type": "code",
   "execution_count": 3,
   "metadata": {},
   "outputs": [
    {
     "name": "stdout",
     "output_type": "stream",
     "text": [
      "\n",
      "Keys of tag type elements:\n",
      "371191 keys with only alpha characters and '_';\n",
      "28740 keys with alpha characters, '_' and a colon;\n",
      "511 keys with alpha characters, '_' and two colons;\n",
      "5 keys with problem characters.\n",
      "277 keys with other patterns.\n",
      "Assign argument more=True to see more.\n",
      "    \n"
     ]
    }
   ],
   "source": [
    "# audit keys of tag type elements\n",
    "audit_keys(OSM, more=False)"
   ]
  },
  {
   "cell_type": "code",
   "execution_count": 4,
   "metadata": {},
   "outputs": [
    {
     "name": "stdout",
     "output_type": "stream",
     "text": [
      "Sk.: 63 items\n",
      "sokak: 61 items\n",
      "Cad.: 54 items\n",
      "Sokağı: 43 items\n",
      "Sok.: 40 items\n"
     ]
    }
   ],
   "source": [
    "# audit street types which are not expected (show only top 5 results)\n",
    "\"\"\"\n",
    "Three common street types of Turkey are:\n",
    "* Bulvarı - Boulevard\n",
    "* Caddesi - Street\n",
    "* Sokak - Street\n",
    "\"\"\"\n",
    "audit_street_types(OSM)"
   ]
  },
  {
   "cell_type": "code",
   "execution_count": 5,
   "metadata": {},
   "outputs": [
    {
     "name": "stdout",
     "output_type": "stream",
     "text": [
      "Invalid postcode: 30464\n",
      "Invalid postcode: 364303\n",
      "Invalid postcode: 33400\n",
      "Invalid postcode: 33400\n",
      "Invalid postcode: 80650\n"
     ]
    }
   ],
   "source": [
    "# audit postcodes\n",
    "\"\"\"\n",
    "Postal codes in Turkey consist of 5 digits.\n",
    "Starting with the 2 digit license plate code of the provinces\n",
    "followed by three digits to specify the location within it.\n",
    "Istanbul code: 34 (41, 81 are also possible)\n",
    "\"\"\"\n",
    "audit_postcodes(OSM)"
   ]
  },
  {
   "cell_type": "code",
   "execution_count": 6,
   "metadata": {},
   "outputs": [
    {
     "name": "stdout",
     "output_type": "stream",
     "text": [
      "\n",
      "There are 3612 phone numbers in this map:\n",
      "45 numbers are not actually numbers;\n",
      "91 numbers are missing country code;\n",
      "27 numbers are missing area code;\n",
      "27 numbers are missing both country code and area code;\n",
      "486 numbers are not well formated\n",
      "2851 numbers have other problems (e.g. extra zeros, \n",
      "wrong country code, more than one phone numbers etc.)\n",
      "Assign argument more=True to see more.\n",
      "    \n"
     ]
    }
   ],
   "source": [
    "# audit phone numbers\n",
    "\"\"\"\n",
    "Turkey local phone numbers: seven digits (3+4)\n",
    "Turkey country calling code: +90 \n",
    "Istanbul area codes (European side): 212\n",
    "Istanbul area codes (Asian side): 216\n",
    "But this map may cover areas other than these 2,\n",
    "so we do not validate the area code in the project.\n",
    "\"\"\"\n",
    "audit_phone_numbers(OSM, more=False)"
   ]
  },
  {
   "cell_type": "markdown",
   "metadata": {},
   "source": [
    "### Data Clean Test"
   ]
  },
  {
   "cell_type": "code",
   "execution_count": 7,
   "metadata": {},
   "outputs": [
    {
     "name": "stdout",
     "output_type": "stream",
     "text": [
      "İnce Yol Sk. => İnce Yol Sokak\n",
      "İsmailpaşa Sk. => İsmailpaşa Sokak\n",
      "basakci sokak => basakci Sokak\n",
      "Cümbüş sokak => Cümbüş Sokak\n",
      "Emirhan Cad. => Emirhan Caddesi\n",
      "Atatürk Cad. => Atatürk Caddesi\n",
      "Katip Sinan Camii Sokağı => Katip Sinan Camii Sokak\n",
      "Şişhane Sokağı => Şişhane Sokak\n",
      "Behzat Budak Sok. => Behzat Budak Sokak\n",
      "44 Sok. => 44 Sokak\n"
     ]
    }
   ],
   "source": [
    "# test to clean street names\n",
    "street_types = {\n",
    "    'Sk.': {'İnce Yol Sk.', 'İsmailpaşa Sk.'},\n",
    "    'sokak': {'basakci sokak', 'Cümbüş sokak'},\n",
    "    'Cad.': {'Emirhan Cad.', 'Atatürk Cad.'},\n",
    "    'Sokağı': {'Katip Sinan Camii Sokağı', 'Şişhane Sokağı'},\n",
    "    'Sok.': {'Behzat Budak Sok.', '44 Sok.'}\n",
    "}\n",
    "clean_street_names(street_types)"
   ]
  },
  {
   "cell_type": "code",
   "execution_count": 8,
   "metadata": {},
   "outputs": [
    {
     "name": "stdout",
     "output_type": "stream",
     "text": [
      "+91 212 361 6096 => +90 212 361 6096\n",
      "+92122937531 => +90 212 293 7531\n",
      "0216 417 62 10 => +90 216 417 6210\n",
      "(216) 524 15 70 => +90 216 524 1570\n",
      "+90 (0) 212 244 44 99 => +90 212 244 4499\n",
      "00 90 212 5179393 => +90 212 517 9393\n"
     ]
    }
   ],
   "source": [
    "# test to clean phone numbers\n",
    "phone_numbers = {\n",
    "    '(216) 524 15 70',\n",
    "    '00 90 212 5179393',\n",
    "    '0216 417 62 10',\n",
    "    '+90 (0) 212 244 44 99',\n",
    "    '+91 212 361 6096',\n",
    "    '+92122937531'\n",
    "}\n",
    "clean_phone_numbers(phone_numbers)"
   ]
  },
  {
   "cell_type": "code",
   "execution_count": 9,
   "metadata": {},
   "outputs": [],
   "source": [
    "# transform osm to csv file. Parse, clean and shape data.\n",
    "# Note: Validation is ~ 10X slower. For the project consider using\n",
    "# SAMPLE when validating.\n",
    "# process_map(OSM)"
   ]
  },
  {
   "cell_type": "code",
   "execution_count": null,
   "metadata": {
    "collapsed": true
   },
   "outputs": [],
   "source": []
  }
 ],
 "metadata": {
  "anaconda-cloud": {},
  "kernelspec": {
   "display_name": "Python 3",
   "language": "python",
   "name": "python3"
  },
  "language_info": {
   "codemirror_mode": {
    "name": "ipython",
    "version": 3
   },
   "file_extension": ".py",
   "mimetype": "text/x-python",
   "name": "python",
   "nbconvert_exporter": "python",
   "pygments_lexer": "ipython3",
   "version": "3.6.2"
  }
 },
 "nbformat": 4,
 "nbformat_minor": 2
}
