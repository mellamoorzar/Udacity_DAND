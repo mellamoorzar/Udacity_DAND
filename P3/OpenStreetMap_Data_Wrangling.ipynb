{
 "cells": [
  {
   "cell_type": "markdown",
   "metadata": {},
   "source": [
    "# OpenStreetMap Data Wrangling with SQL"
   ]
  },
  {
   "cell_type": "markdown",
   "metadata": {},
   "source": [
    "#### Report Environment\n",
    "\n",
    "* Python 3\n",
    "* SQLite"
   ]
  },
  {
   "cell_type": "markdown",
   "metadata": {},
   "source": [
    "## Map Area\n",
    "\n",
    "**Location:** Istanbul, Turkey\n",
    "\n",
    "* [OpenStreetMap URL](https://www.openstreetmap.org/node/1882099475)\n",
    "* [MapZen URL](https://mapzen.com/data/metro-extracts/metro/istanbul_turkey/)\n",
    "\n",
    "If there are some places I would like to visit or visit again, Istanbul is definitely on the list. From splendour Byzantine to powerful Ottoman Empire, Istanbul is full of mystery and attraction. That's why I chose this map, and I’d like an opportunity to contribute to its improvement on OpenStreetMap.org.\n",
    "\n",
    "This data is the suggested Metro Extract with overall filesize of 270 MB (uncompressed)."
   ]
  },
  {
   "cell_type": "code",
   "execution_count": 1,
   "metadata": {
    "collapsed": true
   },
   "outputs": [],
   "source": [
    "from audit import *\n",
    "\n",
    "# declare data\n",
    "datadir = './Data/'\n",
    "fname = 'istanbul_turkey.osm'\n",
    "OSM = datadir + fname"
   ]
  },
  {
   "cell_type": "markdown",
   "metadata": {},
   "source": [
    "## Data Audit"
   ]
  },
  {
   "cell_type": "code",
   "execution_count": 2,
   "metadata": {},
   "outputs": [
    {
     "name": "stdout",
     "output_type": "stream",
     "text": [
      "\n",
      "OSM tag: 1;\n",
      "Node tag: 1245825;\n",
      "Way tag: 208984;\n",
      "Relaton tag: 763\n",
      "    \n"
     ]
    }
   ],
   "source": [
    "# count the elements of different tags\n",
    "count_tags(OSM)"
   ]
  },
  {
   "cell_type": "code",
   "execution_count": 3,
   "metadata": {},
   "outputs": [
    {
     "name": "stdout",
     "output_type": "stream",
     "text": [
      "\n",
      "Keys of tag type elements:\n",
      "375578 keys with only alpha characters and '_';\n",
      "31013 keys with alpha characters, '_' and a colon;\n",
      "511 keys with alpha characters, '_' and two colons;\n",
      "5 keys with problem characters.\n",
      "285 keys with other patterns.\n",
      "Assign argument more=True to see more.\n",
      "    \n"
     ]
    }
   ],
   "source": [
    "# audit keys of tag type elements\n",
    "audit_keys(OSM, more=False)"
   ]
  },
  {
   "cell_type": "code",
   "execution_count": 4,
   "metadata": {},
   "outputs": [
    {
     "name": "stdout",
     "output_type": "stream",
     "text": [
      "sokak: 64 items\n",
      "Sk.: 63 items\n",
      "Sokağı: 63 items\n",
      "Cad.: 54 items\n",
      "caddesi: 48 items\n"
     ]
    }
   ],
   "source": [
    "# audit street types which are not expected (show only top 5 results)\n",
    "\"\"\"\n",
    "Three common street types of Turkey are:\n",
    "* Bulvarı - Boulevard\n",
    "* Caddesi - Street\n",
    "* Sokak - Street\n",
    "\"\"\"\n",
    "audit_street_types(OSM)"
   ]
  },
  {
   "cell_type": "code",
   "execution_count": 5,
   "metadata": {},
   "outputs": [
    {
     "name": "stdout",
     "output_type": "stream",
     "text": [
      "Invalid postcode: 30464\n",
      "Invalid postcode: 364303\n",
      "Invalid postcode: 33400\n",
      "Invalid postcode: 33400\n",
      "Invalid postcode: 80650\n"
     ]
    }
   ],
   "source": [
    "# audit postcodes\n",
    "\"\"\"\n",
    "Postal codes in Turkey consist of 5 digits.\n",
    "Starting with the 2 digit license plate code of the provinces\n",
    "followed by three digits to specify the location within it.\n",
    "Istanbul code: 34 (41, 81 are also possible in this map)\n",
    "\"\"\"\n",
    "audit_postcodes(OSM)"
   ]
  },
  {
   "cell_type": "code",
   "execution_count": 6,
   "metadata": {},
   "outputs": [
    {
     "name": "stdout",
     "output_type": "stream",
     "text": [
      "\n",
      "There are 3848 phone numbers in this map:\n",
      "48 numbers are not actually numbers;\n",
      "91 numbers are missing country code;\n",
      "27 numbers are missing area code;\n",
      "28 numbers are missing both country code and area code;\n",
      "488 numbers are not well formated\n",
      "3081 numbers have other problems (e.g. extra zeros, \n",
      "wrong country code, more than one phone numbers etc.)\n",
      "Assign argument more=True to see more.\n",
      "    \n"
     ]
    }
   ],
   "source": [
    "# audit phone numbers\n",
    "\"\"\"\n",
    "Turkey local phone numbers: seven digits (3+4)\n",
    "Turkey country calling code: +90 \n",
    "Istanbul area codes (European side): 212\n",
    "Istanbul area codes (Asian side): 216\n",
    "But this map may cover areas other than these 2,\n",
    "so we do not validate the area code in the project.\n",
    "\"\"\"\n",
    "audit_phone_numbers(OSM, more=False)"
   ]
  },
  {
   "cell_type": "markdown",
   "metadata": {},
   "source": [
    "## Problems Encountered in the Map"
   ]
  },
  {
   "cell_type": "markdown",
   "metadata": {},
   "source": [
    "* Over­abbreviated street names (e.g. \"Şemsettin Günaltay Cd.\")\n",
    "* Incorrect tag key (e.g. ```<tag k=\"addr:street\" v=\"http://www.istiklalsthouse.com/\"/>```)\n",
    "* Inconsistent phone numbers (e.g. \"0212 219 55 18\")\n",
    "* Incorrect phone number country code (e.g. \"+92122937531\")\n",
    "* Incorrect postcode (e.g. \"364303\")"
   ]
  },
  {
   "cell_type": "markdown",
   "metadata": {},
   "source": [
    "### Over­abbreviated street names\n",
    "Spell out all street types."
   ]
  },
  {
   "cell_type": "code",
   "execution_count": 7,
   "metadata": {},
   "outputs": [
    {
     "name": "stdout",
     "output_type": "stream",
     "text": [
      "İsmailpaşa Sk. => İsmailpaşa Sokak\n",
      "İnce Yol Sk. => İnce Yol Sokak\n",
      "Cümbüş sokak => Cümbüş Sokak\n",
      "basakci sokak => basakci Sokak\n",
      "Atatürk Cad. => Atatürk Caddesi\n",
      "Emirhan Cad. => Emirhan Caddesi\n",
      "Katip Sinan Camii Sokağı => Katip Sinan Camii Sokak\n",
      "Şişhane Sokağı => Şişhane Sokak\n",
      "Behzat Budak Sok. => Behzat Budak Sokak\n",
      "44 Sok. => 44 Sokak\n"
     ]
    }
   ],
   "source": [
    "# test to clean street names\n",
    "street_types = {\n",
    "    'Sk.': {'İnce Yol Sk.', 'İsmailpaşa Sk.'},\n",
    "    'sokak': {'basakci sokak', 'Cümbüş sokak'},\n",
    "    'Cad.': {'Emirhan Cad.', 'Atatürk Cad.'},\n",
    "    'Sokağı': {'Katip Sinan Camii Sokağı', 'Şişhane Sokağı'},\n",
    "    'Sok.': {'Behzat Budak Sok.', '44 Sok.'}\n",
    "}\n",
    "clean_street_names(street_types)"
   ]
  },
  {
   "cell_type": "markdown",
   "metadata": {},
   "source": [
    "### Inconsistent phone number format and incorrect country code\n",
    "Fix incorrect cpuntry code and convert, where necessary, to [E.123](https://en.wikipedia.org/wiki/E.123) pattern."
   ]
  },
  {
   "cell_type": "code",
   "execution_count": 8,
   "metadata": {},
   "outputs": [
    {
     "name": "stdout",
     "output_type": "stream",
     "text": [
      "+91 212 361 6096 => +90 212 361 6096\n",
      "00 90 212 5179393 => +90 212 517 9393\n",
      "+92122937531 => +90 212 293 7531\n",
      "0216 417 62 10 => +90 216 417 6210\n",
      "+90 (0) 212 244 44 99 => +90 212 244 4499\n",
      "(216) 524 15 70 => +90 216 524 1570\n"
     ]
    }
   ],
   "source": [
    "# test to clean phone numbers\n",
    "phone_numbers = {\n",
    "    '(216) 524 15 70',\n",
    "    '00 90 212 5179393',\n",
    "    '0216 417 62 10',\n",
    "    '+90 (0) 212 244 44 99',\n",
    "    '+91 212 361 6096',\n",
    "    '+92122937531'\n",
    "}\n",
    "clean_phone_numbers(phone_numbers)"
   ]
  },
  {
   "cell_type": "markdown",
   "metadata": {},
   "source": [
    "## Data Overview\n",
    "\n",
    "This section contains basic statistics about the Istanbul OpenStreetMap dataset and the SQL queries used to gather them."
   ]
  },
  {
   "cell_type": "markdown",
   "metadata": {},
   "source": [
    "### File sizes"
   ]
  },
  {
   "cell_type": "markdown",
   "metadata": {},
   "source": [
    "```\n",
    "istanbul_turkey.osm...............270Mb\n",
    "\n",
    "nodes.csv.........................102Mb\n",
    "nodes_tags.csv......................3Mb\n",
    "ways.csv...........................12Mb\n",
    "ways_nodes.csv.....................38Mb\n",
    "ways_tags.csv......................11Mb\n",
    "\n",
    "IstanbulMap.db....................283Mb\n",
    "```"
   ]
  },
  {
   "cell_type": "markdown",
   "metadata": {},
   "source": [
    "#### Tables in IstanbulMap.db\n",
    "```\n",
    "Node....................1231292 records\n",
    "NodeTag...................79720 records\n",
    "Way......................205829 records\n",
    "WayTag...................317573 records\n",
    "WayNode.................1589788 records\n",
    "User.......................2412 records\n",
    "```"
   ]
  },
  {
   "cell_type": "markdown",
   "metadata": {},
   "source": [
    "### Religions"
   ]
  },
  {
   "cell_type": "markdown",
   "metadata": {},
   "source": [
    "```SQL\n",
    "SELECT u.Value, count(*) as num \n",
    "FROM (\n",
    "    SELECT * FROM NodeTag WHERE Value\n",
    "    UNION ALL\n",
    "    SELECT * FROM WayTag) u\n",
    "WHERE u.Key = 'religion' \n",
    "GROUP BY u.Value \n",
    "ORDER BY num DESC;\n",
    "```\n",
    "result:\n",
    "```\n",
    "muslim|1971\n",
    "christian|101\n",
    "jewish|10\n",
    "```"
   ]
  },
  {
   "cell_type": "markdown",
   "metadata": {},
   "source": [
    "#### Muslim sects\n",
    "\n",
    "```SQL\n",
    "SELECT WayTag.Value, count(*) as num\n",
    "FROM WayTag JOIN (\n",
    "    SELECT *\n",
    "    FROM WayTag\n",
    "    WHERE Key = 'religion' and Value = 'muslim') j\n",
    "    ON WayTag.WayId = j.WayId\n",
    "WHERE WayTag.Key = 'denomination'\n",
    "GROUP BY WayTag.Value\n",
    "ORDER BY num DESC;\n",
    "```\n",
    "\n",
    "result\n",
    "\n",
    "```\n",
    "sunni|439\n",
    "alevi|4\n",
    "shia|1\n",
    "```"
   ]
  },
  {
   "cell_type": "markdown",
   "metadata": {},
   "source": [
    "#### Christian denominations\n",
    "\n",
    "```SQL\n",
    "SELECT WayTag.Value, count(*) as num\n",
    "FROM WayTag JOIN (\n",
    "    SELECT *\n",
    "    FROM WayTag\n",
    "    WHERE Key = 'religion' and Value = 'christian') j\n",
    "    ON WayTag.WayId = j.WayId\n",
    "WHERE WayTag.Key = 'denomination'\n",
    "GROUP BY WayTag.Value\n",
    "ORDER BY num DESC;\n",
    "```\n",
    "\n",
    "result\n",
    "\n",
    "```\n",
    "orthodox|18\n",
    "greek_orthodox|13\n",
    "catholic|7\n",
    "protestant|4\n",
    "anglican|1\n",
    "bulgarian_orthodox|1\n",
    "new_apostolic|1\n",
    "palestinian_orthodox|1\n",
    "presbyterian|1\n",
    "roman_catholic|1\n",
    "```"
   ]
  },
  {
   "cell_type": "markdown",
   "metadata": {},
   "source": [
    "### History and culture"
   ]
  },
  {
   "cell_type": "markdown",
   "metadata": {},
   "source": [
    "#### Historic\n",
    "```SQL\n",
    "SELECT u.Value, count(*) as num \n",
    "FROM (\n",
    "    SELECT * FROM NodeTag\n",
    "    UNION ALL\n",
    "    SELECT * FROM WayTag) u\n",
    "WHERE u.Key = 'historic' \n",
    "GROUP BY u.Value \n",
    "ORDER BY num DESC;\n",
    "```\n",
    "result:\n",
    "```\n",
    "ruins|81\n",
    "memorial|53\n",
    "monument|48\n",
    "castle|21\n",
    "citywalls|19\n",
    "archaeological_site|11\n",
    "tomb|5\n",
    "heritage|3\n",
    "yes|2\n",
    "church|1\n",
    "city_gate|1\n",
    "fort|1\n",
    "wayside_shrine|1\n",
    "```"
   ]
  },
  {
   "cell_type": "markdown",
   "metadata": {
    "collapsed": true
   },
   "source": [
    "#### Byzantine\n",
    "```SQL\n",
    "SELECT WayTag.Value, count(*) as num \n",
    "FROM WayTag JOIN (\n",
    "    SELECT * \n",
    "    FROM WayTag\n",
    "    WHERE Value = 'byzantine') j\n",
    "    ON WayTag.WayId = j.WayId\n",
    "WHERE WayTag.Key = 'name'\n",
    "GROUP BY WayTag.WayId\n",
    "ORDER BY num DESC;\n",
    "```\n",
    "result:\n",
    "```\n",
    "Aya Sofya|1\n",
    "Yenikapı|1\n",
    "```"
   ]
  },
  {
   "cell_type": "markdown",
   "metadata": {},
   "source": [
    "### Tourism"
   ]
  },
  {
   "cell_type": "markdown",
   "metadata": {},
   "source": [
    "#### Top 20 Popular Places for Tourists\n",
    "```SQL\n",
    "SELECT WayTag.Value, count(*) as num \n",
    "FROM WayTag JOIN (\n",
    "    SELECT * \n",
    "    FROM WayTag\n",
    "    WHERE Type = 'name' or Type = 'alt_name' or Key = 'name' or Key = 'alt_name') j\n",
    "    ON WayTag.WayId = j.WayId\n",
    "WHERE WayTag.Type = 'name' and WayTag.Key = 'en'\n",
    "GROUP BY WayTag.WayId\n",
    "ORDER BY num DESC\n",
    "LIMIT 20;\n",
    "```\n",
    "result:\n",
    "```\n",
    "Bosphorus|67\n",
    "Hagia Sophia|17\n",
    "Fatih Sultan Mehmet Bridge|15\n",
    "Galata Tower|10\n",
    "Crimea Memorial Church|10\n",
    "Topkapı Palace|9\n",
    "Süleymaniye Mosque|8\n",
    "Istanbul Atatürk Airport|8\n",
    "Church of St. George|8\n",
    "Egyptian (Spice) Bazaar|7\n",
    "Kariye Museum|7\n",
    "Church of Saint Anthony of Padua|7\n",
    "Molla Zeyrek Mosque Монастырь Пантократора ( Христа Вседержителя )|7\n",
    "Basilica Cistern|7\n",
    "Valens Aqueduct|6\n",
    "Sultan Ahmet Square|6\n",
    "Grand Bazaar|6\n",
    "Market square|6\n",
    "Court house|6\n",
    "Sehzade Camii Prince's Mosque|5\n",
    "```"
   ]
  },
  {
   "cell_type": "markdown",
   "metadata": {},
   "source": [
    "### Urban life"
   ]
  },
  {
   "cell_type": "markdown",
   "metadata": {
    "collapsed": true
   },
   "source": [
    "#### Top 10 Common Amenities\n",
    "```SQL\n",
    "SELECT u.Value, count(*) as num \n",
    "FROM (\n",
    "    SELECT * FROM NodeTag\n",
    "    UNION ALL\n",
    "    SELECT * FROM WayTag) u\n",
    "WHERE u.Key = 'amenity' \n",
    "GROUP BY u.Value \n",
    "ORDER BY num DESC \n",
    "LIMIT 10;\n",
    "```\n",
    "result:\n",
    "```\n",
    "pharmacy|2614\n",
    "place_of_worship|2299\n",
    "parking|1300\n",
    "restaurant|1168\n",
    "cafe|949\n",
    "school|906\n",
    "fuel|622\n",
    "bank|545\n",
    "fast_food|347\n",
    "atm|284\n",
    "```"
   ]
  },
  {
   "cell_type": "markdown",
   "metadata": {},
   "source": [
    "### Cuisine"
   ]
  },
  {
   "cell_type": "markdown",
   "metadata": {},
   "source": [
    "```SQL\n",
    "SELECT a.value, count(*) as num\n",
    "FROM (\n",
    "    SELECT * FROM NodeTag\n",
    "    UNION ALL\n",
    "    SELECT * FROM WayTag) a\n",
    "    JOIN (\n",
    "    SELECT distinct(NodeId)\n",
    "    FROM NodeTag\n",
    "    WHERE NodeTag.NodeId NOT IN (\n",
    "        SELECT WayNode.NodeId\n",
    "        FROM WayNode)) b\n",
    "    ON a.NodeId = b.NodeId\n",
    "WHERE a.Key = 'cuisine'\n",
    "GROUP BY a.Value\n",
    "ORDER BY num DESC\n",
    "LIMIT 10;\n",
    "```\n",
    "result:\n",
    "```\n",
    "turkish|140\n",
    "burger|55\n",
    "coffee_shop|50\n",
    "regional|39\n",
    "kebab|32\n",
    "pizza|27\n",
    "international|11\n",
    "seafood|10\n",
    "ice_cream|8\n",
    "italian|8\n",
    "```"
   ]
  },
  {
   "cell_type": "markdown",
   "metadata": {
    "collapsed": true
   },
   "source": [
    "#### Most popular cofeeshop chains\n",
    "```SQL\n",
    "SELECT a.Value, count(*) as num\n",
    "FROM (\n",
    "    SELECT * FROM NodeTag\n",
    "    UNION ALL\n",
    "    SELECT * FROM WayTag) a\n",
    "    JOIN (\n",
    "    SELECT distinct(NodeId) FROM NodeTag\n",
    "    WHERE NodeTag.Value = 'cafe' and NodeTag.NodeId NOT IN (\n",
    "        SELECT WayNode.NodeId FROM WayNode\n",
    "        JOIN (\n",
    "        SELECT distinct(WayId) FROM WayTag\n",
    "        WHERE WayTag.Value = 'cafe') b\n",
    "        ON WayNode.WayId = b.WayId)\n",
    "        UNION ALL\n",
    "        SELECT distinct(WayId) FROM WayTag\n",
    "        WHERE WayTag.Value='cafe') c\n",
    "    ON a.NodeId = c.NodeId\n",
    "WHERE a.key = 'name'\n",
    "GROUP BY a.Value\n",
    "ORDER BY num DESC\n",
    "LIMIT 10;\n",
    "```\n",
    "result:\n",
    "```\n",
    "Starbucks|38\n",
    "Mado|11\n",
    "Kahve Dünyası|10\n",
    "Cafeteria|9\n",
    "Simit Sarayı|5\n",
    "Caffè Nero|4\n",
    "Köy kahvesi - Çayocağı|4\n",
    "Aslı Börek|3\n",
    "Kahve Diyarı|3\n",
    "Planet|3\n",
    "```"
   ]
  },
  {
   "cell_type": "markdown",
   "metadata": {},
   "source": [
    "## Additional Suggestion and Ideas"
   ]
  },
  {
   "cell_type": "markdown",
   "metadata": {},
   "source": [
    "The Istanbul OpenStreetMap dataset is a quite messy. An example, let's look back at two queries performed above to perform a new query:"
   ]
  },
  {
   "cell_type": "markdown",
   "metadata": {},
   "source": [
    "#### Building values\n",
    "```SQL\n",
    "SELECT u.Value, count(*) as num \n",
    "FROM (\n",
    "    SELECT * FROM NodeTag\n",
    "    UNION ALL\n",
    "    SELECT * FROM WayTag) u\n",
    "WHERE u.Key = 'building' \n",
    "GROUP BY u.Value \n",
    "ORDER BY num DESC \n",
    "LIMIT 10;\n",
    "```\n",
    "result:\n",
    "```\n",
    "yes|44846\n",
    "apartments|5745\n",
    "residential|4303\n",
    "house|3569\n",
    "commercial|972\n",
    "school|527\n",
    "roof|412\n",
    "mosque|399\n",
    "industrial|380\n",
    "greenhouse|249\n",
    "```"
   ]
  },
  {
   "cell_type": "markdown",
   "metadata": {},
   "source": [
    "#### Total buildings\n",
    "```SQL\n",
    "SELECT count(*)\n",
    "FROM (\n",
    "    SELECT * FROM NodeTag\n",
    "    UNION ALL\n",
    "    SELECT * FROM WayTag) u\n",
    "WHERE u.Key = 'building';\n",
    "```\n",
    "result:\n",
    "```\n",
    "62249\n",
    "```"
   ]
  },
  {
   "cell_type": "markdown",
   "metadata": {},
   "source": [
    "Among all tags with key 'building', approximately 72% (44846 / 62249) has 'yes' value while 18% has other string value. It is not benefit for analysing data. In fact, this situation also appears in other keys.\n",
    "\n",
    "My suggestion on improving this is to build a validation system, this might involve:\n",
    "* Audit data type. Should the value be a booean for the building (yes or no), or should it be a type of building (residential or school).\n",
    "* Make rules or patterns for special keys. Phone number should be separated into country code, area code and local number (may match E.123 standard). For postcode, the length and the pattern should be unified. And so on.\n",
    "\n",
    "Benefits:\n",
    "\n",
    "* It can reduce the chance of typo error.\n",
    "* It can improve the consistency of data.\n",
    "\n",
    "Anticipated Problems:\n",
    "\n",
    "* The rules and patterns should be localized for different country or area.\n",
    "* It might sacrifice flexibility in a certain degree, and might increase the learning cost for contributors."
   ]
  },
  {
   "cell_type": "markdown",
   "metadata": {},
   "source": [
    "#### References\n",
    "\n",
    "* [OpenStreetMap Wiki](https://wiki.openstreetmap.org/wiki/Main_Page)\n",
    "* [Postal codes in Turkey @ wikipedia](https://en.wikipedia.org/wiki/Postal_codes_in_Turkey)\n",
    "* [Telephone numbers in Turkey @ wikipedia](https://en.wikipedia.org/wiki/Telephone_numbers_in_Turkey)"
   ]
  }
 ],
 "metadata": {
  "anaconda-cloud": {},
  "celltoolbar": "Raw Cell Format",
  "kernelspec": {
   "display_name": "Python 3",
   "language": "python",
   "name": "python3"
  },
  "language_info": {
   "codemirror_mode": {
    "name": "ipython",
    "version": 3
   },
   "file_extension": ".py",
   "mimetype": "text/x-python",
   "name": "python",
   "nbconvert_exporter": "python",
   "pygments_lexer": "ipython3",
   "version": "3.6.2"
  }
 },
 "nbformat": 4,
 "nbformat_minor": 2
}
